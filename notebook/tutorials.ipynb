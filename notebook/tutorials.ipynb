{
 "cells": [
  {
   "cell_type": "markdown",
   "metadata": {},
   "source": [
    "Basic Tutorials"
   ]
  },
  {
   "cell_type": "code",
   "execution_count": 1,
   "metadata": {},
   "outputs": [],
   "source": [
    "import sys\n",
    "sys.path.append('/workspaces/ase-distortion-interaction')"
   ]
  },
  {
   "cell_type": "code",
   "execution_count": 2,
   "metadata": {},
   "outputs": [
    {
     "name": "stdout",
     "output_type": "stream",
     "text": [
      "sn2.xyz file saved in ./sn2.xyz\n"
     ]
    }
   ],
   "source": [
    "from asedias.aimnet2ase import AIMNet2Calculator\n",
    "from asedias.core_deprecated import load_aimnet2\n",
    "from asedias import load_data\n",
    "\n",
    "from asedias import System, aseDIAS, Engine\n",
    "\n",
    "load_data('sn2.xyz', save_file=True)\n",
    "model = load_aimnet2()\n",
    "\n",
    "calc_wrraper = lambda **kwargs : AIMNet2Calculator(model=model, **kwargs)\n",
    "\n",
    "system = System(frag_indices=[[0,2,3,4], [1], [5]], frag_charges=[1, -1, -1], filepath='sn2.xyz')\n",
    "system.Engine = calc_wrraper\n"
   ]
  },
  {
   "cell_type": "code",
   "execution_count": 3,
   "metadata": {},
   "outputs": [],
   "source": [
    "analysis = aseDIAS(system=system)"
   ]
  },
  {
   "cell_type": "code",
   "execution_count": 4,
   "metadata": {},
   "outputs": [
    {
     "name": "stdout",
     "output_type": "stream",
     "text": [
      "asedias CALCULATION NORMALLY TERMINATED\n"
     ]
    }
   ],
   "source": [
    "analysis.run()  "
   ]
  },
  {
   "cell_type": "code",
   "execution_count": 5,
   "metadata": {},
   "outputs": [
    {
     "data": {
      "text/plain": [
       "{0: {'molecule': {'total': -83659.6781044993,\n",
       "   'distortion': 1.020422598614914,\n",
       "   'interaction': -83660.6985270979},\n",
       "  'frag_1': {'distortion': 1.020422598614914, 'opt_success': np.True_},\n",
       "  'frag_2': {'distortion': 0.0, 'opt_success': np.True_},\n",
       "  'frag_3': {'distortion': 0.0, 'opt_success': np.True_},\n",
       "  'success': True},\n",
       " 1: {'molecule': {'total': -83659.69799895598,\n",
       "   'distortion': 0.8446422493593673,\n",
       "   'interaction': -83660.54264120533},\n",
       "  'frag_1': {'distortion': 0.8446422493593673, 'opt_success': np.True_},\n",
       "  'frag_2': {'distortion': 0.0, 'opt_success': np.True_},\n",
       "  'frag_3': {'distortion': 0.0, 'opt_success': np.True_},\n",
       "  'success': True},\n",
       " 2: {'molecule': {'total': -83659.66808914355,\n",
       "   'distortion': 0.6829834138179649,\n",
       "   'interaction': -83660.35107255737},\n",
       "  'frag_1': {'distortion': 0.6829834138179649, 'opt_success': np.True_},\n",
       "  'frag_2': {'distortion': 0.0, 'opt_success': np.True_},\n",
       "  'frag_3': {'distortion': 0.0, 'opt_success': np.True_},\n",
       "  'success': True},\n",
       " 3: {'molecule': {'total': -83659.60680991795,\n",
       "   'distortion': 0.535678297065715,\n",
       "   'interaction': -83660.14248821502},\n",
       "  'frag_1': {'distortion': 0.535678297065715, 'opt_success': np.True_},\n",
       "  'frag_2': {'distortion': 0.0, 'opt_success': np.True_},\n",
       "  'frag_3': {'distortion': 0.0, 'opt_success': np.True_},\n",
       "  'success': True},\n",
       " 4: {'molecule': {'total': -83659.52955033204,\n",
       "   'distortion': 0.4040644072538271,\n",
       "   'interaction': -83659.93361473929},\n",
       "  'frag_1': {'distortion': 0.4040644072538271, 'opt_success': np.True_},\n",
       "  'frag_2': {'distortion': 0.0, 'opt_success': np.True_},\n",
       "  'frag_3': {'distortion': 0.0, 'opt_success': np.True_},\n",
       "  'success': True},\n",
       " 5: {'molecule': {'total': -83659.44401078297,\n",
       "   'distortion': 0.2905503726196912,\n",
       "   'interaction': -83659.7345611556},\n",
       "  'frag_1': {'distortion': 0.2905503726196912, 'opt_success': np.True_},\n",
       "  'frag_2': {'distortion': 0.0, 'opt_success': np.True_},\n",
       "  'frag_3': {'distortion': 0.0, 'opt_success': np.True_},\n",
       "  'success': True},\n",
       " 6: {'molecule': {'total': -83659.36453592518,\n",
       "   'distortion': 0.19699485796786576,\n",
       "   'interaction': -83659.56153078315},\n",
       "  'frag_1': {'distortion': 0.19699485796786576, 'opt_success': np.True_},\n",
       "  'frag_2': {'distortion': 0.0, 'opt_success': np.True_},\n",
       "  'frag_3': {'distortion': 0.0, 'opt_success': np.True_},\n",
       "  'success': True},\n",
       " 7: {'molecule': {'total': -83659.29150933716,\n",
       "   'distortion': 0.12406812067456485,\n",
       "   'interaction': -83659.41557745782},\n",
       "  'frag_1': {'distortion': 0.12406812067456485, 'opt_success': np.True_},\n",
       "  'frag_2': {'distortion': 0.0, 'opt_success': np.True_},\n",
       "  'frag_3': {'distortion': 0.0, 'opt_success': np.True_},\n",
       "  'success': True},\n",
       " 8: {'molecule': {'total': -83659.2241438212,\n",
       "   'distortion': 0.0714117531579177,\n",
       "   'interaction': -83659.29555557435},\n",
       "  'frag_1': {'distortion': 0.0714117531579177, 'opt_success': np.True_},\n",
       "  'frag_2': {'distortion': 0.0, 'opt_success': np.True_},\n",
       "  'frag_3': {'distortion': 0.0, 'opt_success': np.True_},\n",
       "  'success': True},\n",
       " 9: {'molecule': {'total': -83659.1735977481,\n",
       "   'distortion': 0.03890873219461355,\n",
       "   'interaction': -83659.2125064803},\n",
       "  'frag_1': {'distortion': 0.03890873219461355, 'opt_success': np.True_},\n",
       "  'frag_2': {'distortion': 0.0, 'opt_success': np.True_},\n",
       "  'frag_3': {'distortion': 0.0, 'opt_success': np.True_},\n",
       "  'success': True},\n",
       " 10: {'molecule': {'total': -83659.16680129588,\n",
       "   'distortion': 0.025993564936470648,\n",
       "   'interaction': -83659.19279486082},\n",
       "  'frag_1': {'distortion': 0.025993564936470648, 'opt_success': np.True_},\n",
       "  'frag_2': {'distortion': 0.0, 'opt_success': np.True_},\n",
       "  'frag_3': {'distortion': 0.0, 'opt_success': np.True_},\n",
       "  'success': True},\n",
       " 11: {'molecule': {'total': -83659.20469346586,\n",
       "   'distortion': 0.03180113975804488,\n",
       "   'interaction': -83659.23649460562},\n",
       "  'frag_1': {'distortion': 0.03180113975804488, 'opt_success': np.True_},\n",
       "  'frag_2': {'distortion': 0.0, 'opt_success': np.True_},\n",
       "  'frag_3': {'distortion': 0.0, 'opt_success': np.True_},\n",
       "  'success': True},\n",
       " 12: {'molecule': {'total': -83659.27621218425,\n",
       "   'distortion': 0.05651693567665461,\n",
       "   'interaction': -83659.33272911992},\n",
       "  'frag_1': {'distortion': 0.05651693567665461, 'opt_success': np.True_},\n",
       "  'frag_2': {'distortion': 0.0, 'opt_success': np.True_},\n",
       "  'frag_3': {'distortion': 0.0, 'opt_success': np.True_},\n",
       "  'success': True},\n",
       " 13: {'molecule': {'total': -83659.36344067837,\n",
       "   'distortion': 0.10041709789720699,\n",
       "   'interaction': -83659.46385777627},\n",
       "  'frag_1': {'distortion': 0.10041709789720699, 'opt_success': np.True_},\n",
       "  'frag_2': {'distortion': 0.0, 'opt_success': np.True_},\n",
       "  'frag_3': {'distortion': 0.0, 'opt_success': np.True_},\n",
       "  'success': True},\n",
       " 14: {'molecule': {'total': -83659.46636030472,\n",
       "   'distortion': 0.1634291033176396,\n",
       "   'interaction': -83659.62978940803},\n",
       "  'frag_1': {'distortion': 0.1634291033176396, 'opt_success': np.True_},\n",
       "  'frag_2': {'distortion': 0.0, 'opt_success': np.True_},\n",
       "  'frag_3': {'distortion': 0.0, 'opt_success': np.True_},\n",
       "  'success': True},\n",
       " 15: {'molecule': {'total': -83659.58291588034,\n",
       "   'distortion': 0.24599697688267952,\n",
       "   'interaction': -83659.82891285722},\n",
       "  'frag_1': {'distortion': 0.24599697688267952, 'opt_success': np.True_},\n",
       "  'frag_2': {'distortion': 0.0, 'opt_success': np.True_},\n",
       "  'frag_3': {'distortion': 0.0, 'opt_success': np.True_},\n",
       "  'success': True},\n",
       " 16: {'molecule': {'total': -83659.70857241572,\n",
       "   'distortion': 0.34830908883282063,\n",
       "   'interaction': -83660.05688150456},\n",
       "  'frag_1': {'distortion': 0.34830908883282063, 'opt_success': np.True_},\n",
       "  'frag_2': {'distortion': 0.0, 'opt_success': np.True_},\n",
       "  'frag_3': {'distortion': 0.0, 'opt_success': np.True_},\n",
       "  'success': True},\n",
       " 17: {'molecule': {'total': -83659.84240120194,\n",
       "   'distortion': 0.47006574769693543,\n",
       "   'interaction': -83660.31246694963},\n",
       "  'frag_1': {'distortion': 0.47006574769693543, 'opt_success': np.True_},\n",
       "  'frag_2': {'distortion': 0.0, 'opt_success': np.True_},\n",
       "  'frag_3': {'distortion': 0.0, 'opt_success': np.True_},\n",
       "  'success': True},\n",
       " 18: {'molecule': {'total': -83660.07340818559,\n",
       "   'distortion': 0.9282572541205809,\n",
       "   'interaction': -83661.00166543972},\n",
       "  'frag_1': {'distortion': 0.9282572541205809, 'opt_success': np.True_},\n",
       "  'frag_2': {'distortion': 0.0, 'opt_success': np.True_},\n",
       "  'frag_3': {'distortion': 0.0, 'opt_success': np.True_},\n",
       "  'success': True},\n",
       " 19: {'molecule': {'total': -83660.07482128519,\n",
       "   'distortion': 0.9482893817960303,\n",
       "   'interaction': -83661.02311066698},\n",
       "  'frag_1': {'distortion': 0.9482893817960303, 'opt_success': np.True_},\n",
       "  'frag_2': {'distortion': 0.0, 'opt_success': np.True_},\n",
       "  'frag_3': {'distortion': 0.0, 'opt_success': np.True_},\n",
       "  'success': True}}"
      ]
     },
     "execution_count": 5,
     "metadata": {},
     "output_type": "execute_result"
    }
   ],
   "source": [
    "analysis.tmp_contrainer"
   ]
  },
  {
   "cell_type": "code",
   "execution_count": 8,
   "metadata": {},
   "outputs": [
    {
     "data": {
      "application/vnd.plotly.v1+json": {
       "config": {
        "plotlyServerURL": "https://plot.ly"
       },
       "data": [
        {
         "hoverinfo": "text",
         "hovertext": "Fragment 1",
         "legendgroup": "Fragment 1",
         "marker": {
          "color": "#FF5733",
          "size": 6.109243748081782
         },
         "mode": "markers",
         "name": "Fragment 1",
         "opacity": 1,
         "showlegend": true,
         "type": "scatter3d",
         "x": [
          -1.277168,
          -1.652166,
          -1.652215,
          -1.651698
         ],
         "y": [
          0.545365,
          0.593222,
          -0.359651,
          1.403205
         ],
         "z": [
          -0.000063,
          1.017641,
          -0.467952,
          -0.550042
         ]
        },
        {
         "hoverinfo": "text",
         "hovertext": "Fragment 1",
         "legendgroup": "Fragment 1",
         "line": {
          "color": "#FF5733",
          "width": 12.271325204000146
         },
         "mode": "lines",
         "name": "Fragment 1",
         "opacity": 0.7,
         "showlegend": false,
         "type": "scatter3d",
         "x": [
          -1.277168,
          -1.652166,
          null,
          -1.277168,
          -1.652215,
          null,
          -1.277168,
          -1.651698,
          null
         ],
         "y": [
          0.545365,
          0.593222,
          null,
          0.545365,
          -0.359651,
          null,
          0.545365,
          1.403205,
          null
         ],
         "z": [
          -0.000063,
          1.017641,
          null,
          -0.000063,
          -0.467952,
          null,
          -0.000063,
          -0.550042,
          null
         ]
        },
        {
         "hoverinfo": "text",
         "hovertext": "Fragment 2",
         "legendgroup": "Fragment 2",
         "marker": {
          "color": "#33FF57",
          "size": 6.109243748081782
         },
         "mode": "markers",
         "name": "Fragment 2",
         "opacity": 1,
         "showlegend": true,
         "type": "scatter3d",
         "x": [
          0.648058
         ],
         "y": [
          0.543727
         ],
         "z": [
          0.000199
         ]
        },
        {
         "hoverinfo": "text",
         "hovertext": "Fragment 2",
         "legendgroup": "Fragment 2",
         "line": {
          "color": "#33FF57",
          "width": 12.271325204000146
         },
         "mode": "lines",
         "name": "Fragment 2",
         "opacity": 0.7,
         "showlegend": false,
         "type": "scatter3d",
         "x": [],
         "y": [],
         "z": []
        },
        {
         "hoverinfo": "text",
         "hovertext": "Fragment 3",
         "legendgroup": "Fragment 3",
         "marker": {
          "color": "#3357FF",
          "size": 6.109243748081782
         },
         "mode": "markers",
         "name": "Fragment 3",
         "opacity": 1,
         "showlegend": true,
         "type": "scatter3d",
         "x": [
          -4.402752
         ],
         "y": [
          0.572053
         ],
         "z": [
          0.000227
         ]
        },
        {
         "hoverinfo": "text",
         "hovertext": "Fragment 3",
         "legendgroup": "Fragment 3",
         "line": {
          "color": "#3357FF",
          "width": 12.271325204000146
         },
         "mode": "lines",
         "name": "Fragment 3",
         "opacity": 0.7,
         "showlegend": false,
         "type": "scatter3d",
         "x": [],
         "y": [],
         "z": []
        }
       ],
       "frames": [
        {
         "data": [
          {
           "hoverinfo": "text",
           "hovertext": "Fragment 1",
           "legendgroup": "Fragment 1",
           "marker": {
            "color": "#FF5733",
            "size": 6.109243748081782
           },
           "mode": "markers",
           "name": "Fragment 1",
           "opacity": 1,
           "showlegend": true,
           "type": "scatter3d",
           "x": [
            -1.277168,
            -1.652166,
            -1.652215,
            -1.651698
           ],
           "y": [
            0.545365,
            0.593222,
            -0.359651,
            1.403205
           ],
           "z": [
            -0.000063,
            1.017641,
            -0.467952,
            -0.550042
           ]
          },
          {
           "hoverinfo": "text",
           "hovertext": "Fragment 1",
           "legendgroup": "Fragment 1",
           "line": {
            "color": "#FF5733",
            "width": 12.271325204000146
           },
           "mode": "lines",
           "name": "Fragment 1",
           "opacity": 0.7,
           "showlegend": false,
           "type": "scatter3d",
           "x": [
            -1.277168,
            -1.652166,
            null,
            -1.277168,
            -1.652215,
            null,
            -1.277168,
            -1.651698,
            null
           ],
           "y": [
            0.545365,
            0.593222,
            null,
            0.545365,
            -0.359651,
            null,
            0.545365,
            1.403205,
            null
           ],
           "z": [
            -0.000063,
            1.017641,
            null,
            -0.000063,
            -0.467952,
            null,
            -0.000063,
            -0.550042,
            null
           ]
          },
          {
           "hoverinfo": "text",
           "hovertext": "Fragment 2",
           "legendgroup": "Fragment 2",
           "marker": {
            "color": "#33FF57",
            "size": 6.109243748081782
           },
           "mode": "markers",
           "name": "Fragment 2",
           "opacity": 1,
           "showlegend": true,
           "type": "scatter3d",
           "x": [
            0.648058
           ],
           "y": [
            0.543727
           ],
           "z": [
            0.000199
           ]
          },
          {
           "hoverinfo": "text",
           "hovertext": "Fragment 2",
           "legendgroup": "Fragment 2",
           "line": {
            "color": "#33FF57",
            "width": 12.271325204000146
           },
           "mode": "lines",
           "name": "Fragment 2",
           "opacity": 0.7,
           "showlegend": false,
           "type": "scatter3d",
           "x": [],
           "y": [],
           "z": []
          },
          {
           "hoverinfo": "text",
           "hovertext": "Fragment 3",
           "legendgroup": "Fragment 3",
           "marker": {
            "color": "#3357FF",
            "size": 6.109243748081782
           },
           "mode": "markers",
           "name": "Fragment 3",
           "opacity": 1,
           "showlegend": true,
           "type": "scatter3d",
           "x": [
            -4.402752
           ],
           "y": [
            0.572053
           ],
           "z": [
            0.000227
           ]
          },
          {
           "hoverinfo": "text",
           "hovertext": "Fragment 3",
           "legendgroup": "Fragment 3",
           "line": {
            "color": "#3357FF",
            "width": 12.271325204000146
           },
           "mode": "lines",
           "name": "Fragment 3",
           "opacity": 0.7,
           "showlegend": false,
           "type": "scatter3d",
           "x": [],
           "y": [],
           "z": []
          }
         ],
         "name": "0"
        },
        {
         "data": [
          {
           "hoverinfo": "text",
           "hovertext": "Fragment 1",
           "legendgroup": "Fragment 1",
           "marker": {
            "color": "#FF5733",
            "size": 6.109243748081782
           },
           "mode": "markers",
           "name": "Fragment 1",
           "opacity": 1,
           "showlegend": true,
           "type": "scatter3d",
           "x": [
            -1.294919,
            -1.63698,
            -1.637355,
            -1.633737
           ],
           "y": [
            0.542959,
            0.598072,
            -0.36923,
            1.408958
           ],
           "z": [
            0.001299,
            1.030309,
            -0.477817,
            -0.553873
           ]
          },
          {
           "hoverinfo": "text",
           "hovertext": "Fragment 1",
           "legendgroup": "Fragment 1",
           "line": {
            "color": "#FF5733",
            "width": 12.271325204000146
           },
           "mode": "lines",
           "name": "Fragment 1",
           "opacity": 0.7,
           "showlegend": false,
           "type": "scatter3d",
           "x": [
            -1.294919,
            -1.63698,
            null,
            -1.294919,
            -1.637355,
            null,
            -1.294919,
            -1.633737,
            null
           ],
           "y": [
            0.542959,
            0.598072,
            null,
            0.542959,
            -0.36923,
            null,
            0.542959,
            1.408958,
            null
           ],
           "z": [
            0.001299,
            1.030309,
            null,
            0.001299,
            -0.477817,
            null,
            0.001299,
            -0.553873,
            null
           ]
          },
          {
           "hoverinfo": "text",
           "hovertext": "Fragment 2",
           "legendgroup": "Fragment 2",
           "marker": {
            "color": "#33FF57",
            "size": 6.109243748081782
           },
           "mode": "markers",
           "name": "Fragment 2",
           "opacity": 1,
           "showlegend": true,
           "type": "scatter3d",
           "x": [
            0.694616
           ],
           "y": [
            0.543808
           ],
           "z": [
            -0.000438
           ]
          },
          {
           "hoverinfo": "text",
           "hovertext": "Fragment 2",
           "legendgroup": "Fragment 2",
           "line": {
            "color": "#33FF57",
            "width": 12.271325204000146
           },
           "mode": "lines",
           "name": "Fragment 2",
           "opacity": 0.7,
           "showlegend": false,
           "type": "scatter3d",
           "x": [],
           "y": [],
           "z": []
          },
          {
           "hoverinfo": "text",
           "hovertext": "Fragment 3",
           "legendgroup": "Fragment 3",
           "marker": {
            "color": "#3357FF",
            "size": 6.109243748081782
           },
           "mode": "markers",
           "name": "Fragment 3",
           "opacity": 1,
           "showlegend": true,
           "type": "scatter3d",
           "x": [
            -4.352783
           ],
           "y": [
            0.57077
           ],
           "z": [
            0.000338
           ]
          },
          {
           "hoverinfo": "text",
           "hovertext": "Fragment 3",
           "legendgroup": "Fragment 3",
           "line": {
            "color": "#3357FF",
            "width": 12.271325204000146
           },
           "mode": "lines",
           "name": "Fragment 3",
           "opacity": 0.7,
           "showlegend": false,
           "type": "scatter3d",
           "x": [],
           "y": [],
           "z": []
          }
         ],
         "name": "1"
        },
        {
         "data": [
          {
           "hoverinfo": "text",
           "hovertext": "Fragment 1",
           "legendgroup": "Fragment 1",
           "marker": {
            "color": "#FF5733",
            "size": 6.109243748081782
           },
           "mode": "markers",
           "name": "Fragment 1",
           "opacity": 1,
           "showlegend": true,
           "type": "scatter3d",
           "x": [
            -1.315835,
            -1.623462,
            -1.624161,
            -1.618359
           ],
           "y": [
            0.540982,
            0.601663,
            -0.378494,
            1.414529
           ],
           "z": [
            0.00243,
            1.042079,
            -0.486125,
            -0.557551
           ]
          },
          {
           "hoverinfo": "text",
           "hovertext": "Fragment 1",
           "legendgroup": "Fragment 1",
           "line": {
            "color": "#FF5733",
            "width": 12.271325204000146
           },
           "mode": "lines",
           "name": "Fragment 1",
           "opacity": 0.7,
           "showlegend": false,
           "type": "scatter3d",
           "x": [
            -1.315835,
            -1.623462,
            null,
            -1.315835,
            -1.624161,
            null,
            -1.315835,
            -1.618359,
            null
           ],
           "y": [
            0.540982,
            0.601663,
            null,
            0.540982,
            -0.378494,
            null,
            0.540982,
            1.414529,
            null
           ],
           "z": [
            0.00243,
            1.042079,
            null,
            0.00243,
            -0.486125,
            null,
            0.00243,
            -0.557551,
            null
           ]
          },
          {
           "hoverinfo": "text",
           "hovertext": "Fragment 2",
           "legendgroup": "Fragment 2",
           "marker": {
            "color": "#33FF57",
            "size": 6.109243748081782
           },
           "mode": "markers",
           "name": "Fragment 2",
           "opacity": 1,
           "showlegend": true,
           "type": "scatter3d",
           "x": [
            0.737905
           ],
           "y": [
            0.544117
           ],
           "z": [
            -0.001198
           ]
          },
          {
           "hoverinfo": "text",
           "hovertext": "Fragment 2",
           "legendgroup": "Fragment 2",
           "line": {
            "color": "#33FF57",
            "width": 12.271325204000146
           },
           "mode": "lines",
           "name": "Fragment 2",
           "opacity": 0.7,
           "showlegend": false,
           "type": "scatter3d",
           "x": [],
           "y": [],
           "z": []
          },
          {
           "hoverinfo": "text",
           "hovertext": "Fragment 3",
           "legendgroup": "Fragment 3",
           "marker": {
            "color": "#3357FF",
            "size": 6.109243748081782
           },
           "mode": "markers",
           "name": "Fragment 3",
           "opacity": 1,
           "showlegend": true,
           "type": "scatter3d",
           "x": [
            -4.306244
           ],
           "y": [
            0.570083
           ],
           "z": [
            0.000092
           ]
          },
          {
           "hoverinfo": "text",
           "hovertext": "Fragment 3",
           "legendgroup": "Fragment 3",
           "line": {
            "color": "#3357FF",
            "width": 12.271325204000146
           },
           "mode": "lines",
           "name": "Fragment 3",
           "opacity": 0.7,
           "showlegend": false,
           "type": "scatter3d",
           "x": [],
           "y": [],
           "z": []
          }
         ],
         "name": "2"
        },
        {
         "data": [
          {
           "hoverinfo": "text",
           "hovertext": "Fragment 1",
           "legendgroup": "Fragment 1",
           "marker": {
            "color": "#FF5733",
            "size": 6.109243748081782
           },
           "mode": "markers",
           "name": "Fragment 1",
           "opacity": 1,
           "showlegend": true,
           "type": "scatter3d",
           "x": [
            -1.339677,
            -1.611638,
            -1.612659,
            -1.60542
           ],
           "y": [
            0.539417,
            0.604179,
            -0.387212,
            1.419807
           ],
           "z": [
            0.003342,
            1.052782,
            -0.492968,
            -0.561005
           ]
          },
          {
           "hoverinfo": "text",
           "hovertext": "Fragment 1",
           "legendgroup": "Fragment 1",
           "line": {
            "color": "#FF5733",
            "width": 12.271325204000146
           },
           "mode": "lines",
           "name": "Fragment 1",
           "opacity": 0.7,
           "showlegend": false,
           "type": "scatter3d",
           "x": [
            -1.339677,
            -1.611638,
            null,
            -1.339677,
            -1.612659,
            null,
            -1.339677,
            -1.60542,
            null
           ],
           "y": [
            0.539417,
            0.604179,
            null,
            0.539417,
            -0.387212,
            null,
            0.539417,
            1.419807,
            null
           ],
           "z": [
            0.003342,
            1.052782,
            null,
            0.003342,
            -0.492968,
            null,
            0.003342,
            -0.561005,
            null
           ]
          },
          {
           "hoverinfo": "text",
           "hovertext": "Fragment 2",
           "legendgroup": "Fragment 2",
           "marker": {
            "color": "#33FF57",
            "size": 6.109243748081782
           },
           "mode": "markers",
           "name": "Fragment 2",
           "opacity": 1,
           "showlegend": true,
           "type": "scatter3d",
           "x": [
            0.778164
           ],
           "y": [
            0.54454
           ],
           "z": [
            -0.002007
           ]
          },
          {
           "hoverinfo": "text",
           "hovertext": "Fragment 2",
           "legendgroup": "Fragment 2",
           "line": {
            "color": "#33FF57",
            "width": 12.271325204000146
           },
           "mode": "lines",
           "name": "Fragment 2",
           "opacity": 0.7,
           "showlegend": false,
           "type": "scatter3d",
           "x": [],
           "y": [],
           "z": []
          },
          {
           "hoverinfo": "text",
           "hovertext": "Fragment 3",
           "legendgroup": "Fragment 3",
           "marker": {
            "color": "#3357FF",
            "size": 6.109243748081782
           },
           "mode": "markers",
           "name": "Fragment 3",
           "opacity": 1,
           "showlegend": true,
           "type": "scatter3d",
           "x": [
            -4.262904
           ],
           "y": [
            0.569876
           ],
           "z": [
            -0.000429
           ]
          },
          {
           "hoverinfo": "text",
           "hovertext": "Fragment 3",
           "legendgroup": "Fragment 3",
           "line": {
            "color": "#3357FF",
            "width": 12.271325204000146
           },
           "mode": "lines",
           "name": "Fragment 3",
           "opacity": 0.7,
           "showlegend": false,
           "type": "scatter3d",
           "x": [],
           "y": [],
           "z": []
          }
         ],
         "name": "3"
        },
        {
         "data": [
          {
           "hoverinfo": "text",
           "hovertext": "Fragment 1",
           "legendgroup": "Fragment 1",
           "marker": {
            "color": "#FF5733",
            "size": 6.109243748081782
           },
           "mode": "markers",
           "name": "Fragment 1",
           "opacity": 1,
           "showlegend": true,
           "type": "scatter3d",
           "x": [
            -1.366581,
            -1.601896,
            -1.603235,
            -1.595159
           ],
           "y": [
            0.538239,
            0.605824,
            -0.395175,
            1.42469
           ],
           "z": [
            0.004055,
            1.062287,
            -0.498473,
            -0.564166
           ]
          },
          {
           "hoverinfo": "text",
           "hovertext": "Fragment 1",
           "legendgroup": "Fragment 1",
           "line": {
            "color": "#FF5733",
            "width": 12.271325204000146
           },
           "mode": "lines",
           "name": "Fragment 1",
           "opacity": 0.7,
           "showlegend": false,
           "type": "scatter3d",
           "x": [
            -1.366581,
            -1.601896,
            null,
            -1.366581,
            -1.603235,
            null,
            -1.366581,
            -1.595159,
            null
           ],
           "y": [
            0.538239,
            0.605824,
            null,
            0.538239,
            -0.395175,
            null,
            0.538239,
            1.42469,
            null
           ],
           "z": [
            0.004055,
            1.062287,
            null,
            0.004055,
            -0.498473,
            null,
            0.004055,
            -0.564166,
            null
           ]
          },
          {
           "hoverinfo": "text",
           "hovertext": "Fragment 2",
           "legendgroup": "Fragment 2",
           "marker": {
            "color": "#33FF57",
            "size": 6.109243748081782
           },
           "mode": "markers",
           "name": "Fragment 2",
           "opacity": 1,
           "showlegend": true,
           "type": "scatter3d",
           "x": [
            0.815256
           ],
           "y": [
            0.544987
           ],
           "z": [
            -0.002802
           ]
          },
          {
           "hoverinfo": "text",
           "hovertext": "Fragment 2",
           "legendgroup": "Fragment 2",
           "line": {
            "color": "#33FF57",
            "width": 12.271325204000146
           },
           "mode": "lines",
           "name": "Fragment 2",
           "opacity": 0.7,
           "showlegend": false,
           "type": "scatter3d",
           "x": [],
           "y": [],
           "z": []
          },
          {
           "hoverinfo": "text",
           "hovertext": "Fragment 3",
           "legendgroup": "Fragment 3",
           "marker": {
            "color": "#3357FF",
            "size": 6.109243748081782
           },
           "mode": "markers",
           "name": "Fragment 3",
           "opacity": 1,
           "showlegend": true,
           "type": "scatter3d",
           "x": [
            -4.22291
           ],
           "y": [
            0.570016
           ],
           "z": [
            -0.001135
           ]
          },
          {
           "hoverinfo": "text",
           "hovertext": "Fragment 3",
           "legendgroup": "Fragment 3",
           "line": {
            "color": "#3357FF",
            "width": 12.271325204000146
           },
           "mode": "lines",
           "name": "Fragment 3",
           "opacity": 0.7,
           "showlegend": false,
           "type": "scatter3d",
           "x": [],
           "y": [],
           "z": []
          }
         ],
         "name": "4"
        },
        {
         "data": [
          {
           "hoverinfo": "text",
           "hovertext": "Fragment 1",
           "legendgroup": "Fragment 1",
           "marker": {
            "color": "#FF5733",
            "size": 6.109243748081782
           },
           "mode": "markers",
           "name": "Fragment 1",
           "opacity": 1,
           "showlegend": true,
           "type": "scatter3d",
           "x": [
            -1.396921,
            -1.594843,
            -1.596495,
            -1.588047
           ],
           "y": [
            0.53742,
            0.606819,
            -0.402193,
            1.42909
           ],
           "z": [
            0.004595,
            1.070495,
            -0.502783,
            -0.566973
           ]
          },
          {
           "hoverinfo": "text",
           "hovertext": "Fragment 1",
           "legendgroup": "Fragment 1",
           "line": {
            "color": "#FF5733",
            "width": 12.271325204000146
           },
           "mode": "lines",
           "name": "Fragment 1",
           "opacity": 0.7,
           "showlegend": false,
           "type": "scatter3d",
           "x": [
            -1.396921,
            -1.594843,
            null,
            -1.396921,
            -1.596495,
            null,
            -1.396921,
            -1.588047,
            null
           ],
           "y": [
            0.53742,
            0.606819,
            null,
            0.53742,
            -0.402193,
            null,
            0.53742,
            1.42909,
            null
           ],
           "z": [
            0.004595,
            1.070495,
            null,
            0.004595,
            -0.502783,
            null,
            0.004595,
            -0.566973,
            null
           ]
          },
          {
           "hoverinfo": "text",
           "hovertext": "Fragment 2",
           "legendgroup": "Fragment 2",
           "marker": {
            "color": "#33FF57",
            "size": 6.109243748081782
           },
           "mode": "markers",
           "name": "Fragment 2",
           "opacity": 1,
           "showlegend": true,
           "type": "scatter3d",
           "x": [
            0.848807
           ],
           "y": [
            0.545389
           ],
           "z": [
            -0.003529
           ]
          },
          {
           "hoverinfo": "text",
           "hovertext": "Fragment 2",
           "legendgroup": "Fragment 2",
           "line": {
            "color": "#33FF57",
            "width": 12.271325204000146
           },
           "mode": "lines",
           "name": "Fragment 2",
           "opacity": 0.7,
           "showlegend": false,
           "type": "scatter3d",
           "x": [],
           "y": [],
           "z": []
          },
          {
           "hoverinfo": "text",
           "hovertext": "Fragment 3",
           "legendgroup": "Fragment 3",
           "marker": {
            "color": "#3357FF",
            "size": 6.109243748081782
           },
           "mode": "markers",
           "name": "Fragment 3",
           "opacity": 1,
           "showlegend": true,
           "type": "scatter3d",
           "x": [
            -4.186639
           ],
           "y": [
            0.570383
           ],
           "z": [
            -0.00194
           ]
          },
          {
           "hoverinfo": "text",
           "hovertext": "Fragment 3",
           "legendgroup": "Fragment 3",
           "line": {
            "color": "#3357FF",
            "width": 12.271325204000146
           },
           "mode": "lines",
           "name": "Fragment 3",
           "opacity": 0.7,
           "showlegend": false,
           "type": "scatter3d",
           "x": [],
           "y": [],
           "z": []
          }
         ],
         "name": "5"
        },
        {
         "data": [
          {
           "hoverinfo": "text",
           "hovertext": "Fragment 1",
           "legendgroup": "Fragment 1",
           "marker": {
            "color": "#FF5733",
            "size": 6.109243748081782
           },
           "mode": "markers",
           "name": "Fragment 1",
           "opacity": 1,
           "showlegend": true,
           "type": "scatter3d",
           "x": [
            -1.431179,
            -1.591171,
            -1.59313,
            -1.584653
           ],
           "y": [
            0.536936,
            0.607382,
            -0.408099,
            1.432937
           ],
           "z": [
            0.004988,
            1.077329,
            -0.506053,
            -0.569371
           ]
          },
          {
           "hoverinfo": "text",
           "hovertext": "Fragment 1",
           "legendgroup": "Fragment 1",
           "line": {
            "color": "#FF5733",
            "width": 12.271325204000146
           },
           "mode": "lines",
           "name": "Fragment 1",
           "opacity": 0.7,
           "showlegend": false,
           "type": "scatter3d",
           "x": [
            -1.431179,
            -1.591171,
            null,
            -1.431179,
            -1.59313,
            null,
            -1.431179,
            -1.584653,
            null
           ],
           "y": [
            0.536936,
            0.607382,
            null,
            0.536936,
            -0.408099,
            null,
            0.536936,
            1.432937,
            null
           ],
           "z": [
            0.004988,
            1.077329,
            null,
            0.004988,
            -0.506053,
            null,
            0.004988,
            -0.569371,
            null
           ]
          },
          {
           "hoverinfo": "text",
           "hovertext": "Fragment 2",
           "legendgroup": "Fragment 2",
           "marker": {
            "color": "#33FF57",
            "size": 6.109243748081782
           },
           "mode": "markers",
           "name": "Fragment 2",
           "opacity": 1,
           "showlegend": true,
           "type": "scatter3d",
           "x": [
            0.878349
           ],
           "y": [
            0.545696
           ],
           "z": [
            -0.004144
           ]
          },
          {
           "hoverinfo": "text",
           "hovertext": "Fragment 2",
           "legendgroup": "Fragment 2",
           "line": {
            "color": "#33FF57",
            "width": 12.271325204000146
           },
           "mode": "lines",
           "name": "Fragment 2",
           "opacity": 0.7,
           "showlegend": false,
           "type": "scatter3d",
           "x": [],
           "y": [],
           "z": []
          },
          {
           "hoverinfo": "text",
           "hovertext": "Fragment 3",
           "legendgroup": "Fragment 3",
           "marker": {
            "color": "#3357FF",
            "size": 6.109243748081782
           },
           "mode": "markers",
           "name": "Fragment 3",
           "opacity": 1,
           "showlegend": true,
           "type": "scatter3d",
           "x": [
            -4.154565
           ],
           "y": [
            0.570876
           ],
           "z": [
            -0.002768
           ]
          },
          {
           "hoverinfo": "text",
           "hovertext": "Fragment 3",
           "legendgroup": "Fragment 3",
           "line": {
            "color": "#3357FF",
            "width": 12.271325204000146
           },
           "mode": "lines",
           "name": "Fragment 3",
           "opacity": 0.7,
           "showlegend": false,
           "type": "scatter3d",
           "x": [],
           "y": [],
           "z": []
          }
         ],
         "name": "6"
        },
        {
         "data": [
          {
           "hoverinfo": "text",
           "hovertext": "Fragment 1",
           "legendgroup": "Fragment 1",
           "marker": {
            "color": "#FF5733",
            "size": 6.109243748081782
           },
           "mode": "markers",
           "name": "Fragment 1",
           "opacity": 1,
           "showlegend": true,
           "type": "scatter3d",
           "x": [
            -1.469988,
            -1.591701,
            -1.59396,
            -1.585688
           ],
           "y": [
            0.536776,
            0.60772,
            -0.412748,
            1.436191
           ],
           "z": [
            0.005252,
            1.082741,
            -0.50843,
            -0.571323
           ]
          },
          {
           "hoverinfo": "text",
           "hovertext": "Fragment 1",
           "legendgroup": "Fragment 1",
           "line": {
            "color": "#FF5733",
            "width": 12.271325204000146
           },
           "mode": "lines",
           "name": "Fragment 1",
           "opacity": 0.7,
           "showlegend": false,
           "type": "scatter3d",
           "x": [
            -1.469988,
            -1.591701,
            null,
            -1.469988,
            -1.59396,
            null,
            -1.469988,
            -1.585688,
            null
           ],
           "y": [
            0.536776,
            0.60772,
            null,
            0.536776,
            -0.412748,
            null,
            0.536776,
            1.436191,
            null
           ],
           "z": [
            0.005252,
            1.082741,
            null,
            0.005252,
            -0.50843,
            null,
            0.005252,
            -0.571323,
            null
           ]
          },
          {
           "hoverinfo": "text",
           "hovertext": "Fragment 2",
           "legendgroup": "Fragment 2",
           "marker": {
            "color": "#33FF57",
            "size": 6.109243748081782
           },
           "mode": "markers",
           "name": "Fragment 2",
           "opacity": 1,
           "showlegend": true,
           "type": "scatter3d",
           "x": [
            0.903269
           ],
           "y": [
            0.545886
           ],
           "z": [
            -0.004619
           ]
          },
          {
           "hoverinfo": "text",
           "hovertext": "Fragment 2",
           "legendgroup": "Fragment 2",
           "line": {
            "color": "#33FF57",
            "width": 12.271325204000146
           },
           "mode": "lines",
           "name": "Fragment 2",
           "opacity": 0.7,
           "showlegend": false,
           "type": "scatter3d",
           "x": [],
           "y": [],
           "z": []
          },
          {
           "hoverinfo": "text",
           "hovertext": "Fragment 3",
           "legendgroup": "Fragment 3",
           "marker": {
            "color": "#3357FF",
            "size": 6.109243748081782
           },
           "mode": "markers",
           "name": "Fragment 3",
           "opacity": 1,
           "showlegend": true,
           "type": "scatter3d",
           "x": [
            -4.127302
           ],
           "y": [
            0.571417
           ],
           "z": [
            -0.003556
           ]
          },
          {
           "hoverinfo": "text",
           "hovertext": "Fragment 3",
           "legendgroup": "Fragment 3",
           "line": {
            "color": "#3357FF",
            "width": 12.271325204000146
           },
           "mode": "lines",
           "name": "Fragment 3",
           "opacity": 0.7,
           "showlegend": false,
           "type": "scatter3d",
           "x": [],
           "y": [],
           "z": []
          }
         ],
         "name": "7"
        },
        {
         "data": [
          {
           "hoverinfo": "text",
           "hovertext": "Fragment 1",
           "legendgroup": "Fragment 1",
           "marker": {
            "color": "#FF5733",
            "size": 6.109243748081782
           },
           "mode": "markers",
           "name": "Fragment 1",
           "opacity": 1,
           "showlegend": true,
           "type": "scatter3d",
           "x": [
            -1.515108,
            -1.598352,
            -1.600902,
            -1.592975
           ],
           "y": [
            0.536986,
            0.608067,
            -0.415977,
            1.438888
           ],
           "z": [
            0.005389,
            1.086686,
            -0.510068,
            -0.572824
           ]
          },
          {
           "hoverinfo": "text",
           "hovertext": "Fragment 1",
           "legendgroup": "Fragment 1",
           "line": {
            "color": "#FF5733",
            "width": 12.271325204000146
           },
           "mode": "lines",
           "name": "Fragment 1",
           "opacity": 0.7,
           "showlegend": false,
           "type": "scatter3d",
           "x": [
            -1.515108,
            -1.598352,
            null,
            -1.515108,
            -1.600902,
            null,
            -1.515108,
            -1.592975,
            null
           ],
           "y": [
            0.536986,
            0.608067,
            null,
            0.536986,
            -0.415977,
            null,
            0.536986,
            1.438888,
            null
           ],
           "z": [
            0.005389,
            1.086686,
            null,
            0.005389,
            -0.510068,
            null,
            0.005389,
            -0.572824,
            null
           ]
          },
          {
           "hoverinfo": "text",
           "hovertext": "Fragment 2",
           "legendgroup": "Fragment 2",
           "marker": {
            "color": "#33FF57",
            "size": 6.109243748081782
           },
           "mode": "markers",
           "name": "Fragment 2",
           "opacity": 1,
           "showlegend": true,
           "type": "scatter3d",
           "x": [
            0.921841
           ],
           "y": [
            0.546011
           ],
           "z": [
            -0.004956
           ]
          },
          {
           "hoverinfo": "text",
           "hovertext": "Fragment 2",
           "legendgroup": "Fragment 2",
           "line": {
            "color": "#33FF57",
            "width": 12.271325204000146
           },
           "mode": "lines",
           "name": "Fragment 2",
           "opacity": 0.7,
           "showlegend": false,
           "type": "scatter3d",
           "x": [],
           "y": [],
           "z": []
          },
          {
           "hoverinfo": "text",
           "hovertext": "Fragment 3",
           "legendgroup": "Fragment 3",
           "marker": {
            "color": "#3357FF",
            "size": 6.109243748081782
           },
           "mode": "markers",
           "name": "Fragment 3",
           "opacity": 1,
           "showlegend": true,
           "type": "scatter3d",
           "x": [
            -4.106575
           ],
           "y": [
            0.572011
           ],
           "z": [
            -0.004277
           ]
          },
          {
           "hoverinfo": "text",
           "hovertext": "Fragment 3",
           "legendgroup": "Fragment 3",
           "line": {
            "color": "#3357FF",
            "width": 12.271325204000146
           },
           "mode": "lines",
           "name": "Fragment 3",
           "opacity": 0.7,
           "showlegend": false,
           "type": "scatter3d",
           "x": [],
           "y": [],
           "z": []
          }
         ],
         "name": "8"
        },
        {
         "data": [
          {
           "hoverinfo": "text",
           "hovertext": "Fragment 1",
           "legendgroup": "Fragment 1",
           "marker": {
            "color": "#FF5733",
            "size": 6.109243748081782
           },
           "mode": "markers",
           "name": "Fragment 1",
           "opacity": 1,
           "showlegend": true,
           "type": "scatter3d",
           "x": [
            -1.575642,
            -1.620356,
            -1.623188,
            -1.615665
           ],
           "y": [
            0.537865,
            0.608861,
            -0.417415,
            1.441328
           ],
           "z": [
            0.005347,
            1.089101,
            -0.511134,
            -0.573923
           ]
          },
          {
           "hoverinfo": "text",
           "hovertext": "Fragment 1",
           "legendgroup": "Fragment 1",
           "line": {
            "color": "#FF5733",
            "width": 12.271325204000146
           },
           "mode": "lines",
           "name": "Fragment 1",
           "opacity": 0.7,
           "showlegend": false,
           "type": "scatter3d",
           "x": [
            -1.575642,
            -1.620356,
            null,
            -1.575642,
            -1.623188,
            null,
            -1.575642,
            -1.615665,
            null
           ],
           "y": [
            0.537865,
            0.608861,
            null,
            0.537865,
            -0.417415,
            null,
            0.537865,
            1.441328,
            null
           ],
           "z": [
            0.005347,
            1.089101,
            null,
            0.005347,
            -0.511134,
            null,
            0.005347,
            -0.573923,
            null
           ]
          },
          {
           "hoverinfo": "text",
           "hovertext": "Fragment 2",
           "legendgroup": "Fragment 2",
           "marker": {
            "color": "#33FF57",
            "size": 6.109243748081782
           },
           "mode": "markers",
           "name": "Fragment 2",
           "opacity": 1,
           "showlegend": true,
           "type": "scatter3d",
           "x": [
            0.92501
           ],
           "y": [
            0.546387
           ],
           "z": [
            -0.005215
           ]
          },
          {
           "hoverinfo": "text",
           "hovertext": "Fragment 2",
           "legendgroup": "Fragment 2",
           "line": {
            "color": "#33FF57",
            "width": 12.271325204000146
           },
           "mode": "lines",
           "name": "Fragment 2",
           "opacity": 0.7,
           "showlegend": false,
           "type": "scatter3d",
           "x": [],
           "y": [],
           "z": []
          },
          {
           "hoverinfo": "text",
           "hovertext": "Fragment 3",
           "legendgroup": "Fragment 3",
           "marker": {
            "color": "#3357FF",
            "size": 6.109243748081782
           },
           "mode": "markers",
           "name": "Fragment 3",
           "opacity": 1,
           "showlegend": true,
           "type": "scatter3d",
           "x": [
            -4.101437
           ],
           "y": [
            0.572923
           ],
           "z": [
            -0.004957
           ]
          },
          {
           "hoverinfo": "text",
           "hovertext": "Fragment 3",
           "legendgroup": "Fragment 3",
           "line": {
            "color": "#3357FF",
            "width": 12.271325204000146
           },
           "mode": "lines",
           "name": "Fragment 3",
           "opacity": 0.7,
           "showlegend": false,
           "type": "scatter3d",
           "x": [],
           "y": [],
           "z": []
          }
         ],
         "name": "9"
        },
        {
         "data": [
          {
           "hoverinfo": "text",
           "hovertext": "Fragment 1",
           "legendgroup": "Fragment 1",
           "marker": {
            "color": "#FF5733",
            "size": 6.109243748081782
           },
           "mode": "markers",
           "name": "Fragment 1",
           "opacity": 1,
           "showlegend": true,
           "type": "scatter3d",
           "x": [
            -1.668385,
            -1.674605,
            -1.677706,
            -1.670591
           ],
           "y": [
            0.539912,
            0.610691,
            -0.416533,
            1.444027
           ],
           "z": [
            0.005108,
            1.089978,
            -0.511735,
            -0.574649
           ]
          },
          {
           "hoverinfo": "text",
           "hovertext": "Fragment 1",
           "legendgroup": "Fragment 1",
           "line": {
            "color": "#FF5733",
            "width": 12.271325204000146
           },
           "mode": "lines",
           "name": "Fragment 1",
           "opacity": 0.7,
           "showlegend": false,
           "type": "scatter3d",
           "x": [
            -1.668385,
            -1.674605,
            null,
            -1.668385,
            -1.677706,
            null,
            -1.668385,
            -1.670591,
            null
           ],
           "y": [
            0.539912,
            0.610691,
            null,
            0.539912,
            -0.416533,
            null,
            0.539912,
            1.444027,
            null
           ],
           "z": [
            0.005108,
            1.089978,
            null,
            0.005108,
            -0.511735,
            null,
            0.005108,
            -0.574649,
            null
           ]
          },
          {
           "hoverinfo": "text",
           "hovertext": "Fragment 2",
           "legendgroup": "Fragment 2",
           "marker": {
            "color": "#33FF57",
            "size": 6.109243748081782
           },
           "mode": "markers",
           "name": "Fragment 2",
           "opacity": 1,
           "showlegend": true,
           "type": "scatter3d",
           "x": [
            0.896034
           ],
           "y": [
            0.547547
           ],
           "z": [
            -0.005433
           ]
          },
          {
           "hoverinfo": "text",
           "hovertext": "Fragment 2",
           "legendgroup": "Fragment 2",
           "line": {
            "color": "#33FF57",
            "width": 12.271325204000146
           },
           "mode": "lines",
           "name": "Fragment 2",
           "opacity": 0.7,
           "showlegend": false,
           "type": "scatter3d",
           "x": [],
           "y": [],
           "z": []
          },
          {
           "hoverinfo": "text",
           "hovertext": "Fragment 3",
           "legendgroup": "Fragment 3",
           "marker": {
            "color": "#3357FF",
            "size": 6.109243748081782
           },
           "mode": "markers",
           "name": "Fragment 3",
           "opacity": 1,
           "showlegend": true,
           "type": "scatter3d",
           "x": [
            -4.128622
           ],
           "y": [
            0.574623
           ],
           "z": [
            -0.005598
           ]
          },
          {
           "hoverinfo": "text",
           "hovertext": "Fragment 3",
           "legendgroup": "Fragment 3",
           "line": {
            "color": "#3357FF",
            "width": 12.271325204000146
           },
           "mode": "lines",
           "name": "Fragment 3",
           "opacity": 0.7,
           "showlegend": false,
           "type": "scatter3d",
           "x": [],
           "y": [],
           "z": []
          }
         ],
         "name": "10"
        },
        {
         "data": [
          {
           "hoverinfo": "text",
           "hovertext": "Fragment 1",
           "legendgroup": "Fragment 1",
           "marker": {
            "color": "#FF5733",
            "size": 6.109243748081782
           },
           "mode": "markers",
           "name": "Fragment 1",
           "opacity": 1,
           "showlegend": true,
           "type": "scatter3d",
           "x": [
            -1.750666,
            -1.718497,
            -1.721857,
            -1.715103
           ],
           "y": [
            0.541334,
            0.611806,
            -0.415133,
            1.445212
           ],
           "z": [
            0.005081,
            1.089754,
            -0.511511,
            -0.574606
           ]
          },
          {
           "hoverinfo": "text",
           "hovertext": "Fragment 1",
           "legendgroup": "Fragment 1",
           "line": {
            "color": "#FF5733",
            "width": 12.271325204000146
           },
           "mode": "lines",
           "name": "Fragment 1",
           "opacity": 0.7,
           "showlegend": false,
           "type": "scatter3d",
           "x": [
            -1.750666,
            -1.718497,
            null,
            -1.750666,
            -1.721857,
            null,
            -1.750666,
            -1.715103,
            null
           ],
           "y": [
            0.541334,
            0.611806,
            null,
            0.541334,
            -0.415133,
            null,
            0.541334,
            1.445212,
            null
           ],
           "z": [
            0.005081,
            1.089754,
            null,
            0.005081,
            -0.511511,
            null,
            0.005081,
            -0.574606,
            null
           ]
          },
          {
           "hoverinfo": "text",
           "hovertext": "Fragment 2",
           "legendgroup": "Fragment 2",
           "marker": {
            "color": "#33FF57",
            "size": 6.109243748081782
           },
           "mode": "markers",
           "name": "Fragment 2",
           "opacity": 1,
           "showlegend": true,
           "type": "scatter3d",
           "x": [
            0.87764
           ],
           "y": [
            0.547728
           ],
           "z": [
            -0.005221
           ]
          },
          {
           "hoverinfo": "text",
           "hovertext": "Fragment 2",
           "legendgroup": "Fragment 2",
           "line": {
            "color": "#33FF57",
            "width": 12.271325204000146
           },
           "mode": "lines",
           "name": "Fragment 2",
           "opacity": 0.7,
           "showlegend": false,
           "type": "scatter3d",
           "x": [],
           "y": [],
           "z": []
          },
          {
           "hoverinfo": "text",
           "hovertext": "Fragment 3",
           "legendgroup": "Fragment 3",
           "marker": {
            "color": "#3357FF",
            "size": 6.109243748081782
           },
           "mode": "markers",
           "name": "Fragment 3",
           "opacity": 1,
           "showlegend": true,
           "type": "scatter3d",
           "x": [
            -4.145399
           ],
           "y": [
            0.57531
           ],
           "z": [
            -0.005781
           ]
          },
          {
           "hoverinfo": "text",
           "hovertext": "Fragment 3",
           "legendgroup": "Fragment 3",
           "line": {
            "color": "#3357FF",
            "width": 12.271325204000146
           },
           "mode": "lines",
           "name": "Fragment 3",
           "opacity": 0.7,
           "showlegend": false,
           "type": "scatter3d",
           "x": [],
           "y": [],
           "z": []
          }
         ],
         "name": "11"
        },
        {
         "data": [
          {
           "hoverinfo": "text",
           "hovertext": "Fragment 1",
           "legendgroup": "Fragment 1",
           "marker": {
            "color": "#FF5733",
            "size": 6.109243748081782
           },
           "mode": "markers",
           "name": "Fragment 1",
           "opacity": 1,
           "showlegend": true,
           "type": "scatter3d",
           "x": [
            -1.801257,
            -1.730856,
            -1.734462,
            -1.727985
           ],
           "y": [
            0.541904,
            0.611972,
            -0.413478,
            1.444681
           ],
           "z": [
            0.005111,
            1.088313,
            -0.510626,
            -0.573963
           ]
          },
          {
           "hoverinfo": "text",
           "hovertext": "Fragment 1",
           "legendgroup": "Fragment 1",
           "line": {
            "color": "#FF5733",
            "width": 12.271325204000146
           },
           "mode": "lines",
           "name": "Fragment 1",
           "opacity": 0.7,
           "showlegend": false,
           "type": "scatter3d",
           "x": [
            -1.801257,
            -1.730856,
            null,
            -1.801257,
            -1.734462,
            null,
            -1.801257,
            -1.727985,
            null
           ],
           "y": [
            0.541904,
            0.611972,
            null,
            0.541904,
            -0.413478,
            null,
            0.541904,
            1.444681,
            null
           ],
           "z": [
            0.005111,
            1.088313,
            null,
            0.005111,
            -0.510626,
            null,
            0.005111,
            -0.573963,
            null
           ]
          },
          {
           "hoverinfo": "text",
           "hovertext": "Fragment 2",
           "legendgroup": "Fragment 2",
           "marker": {
            "color": "#33FF57",
            "size": 6.109243748081782
           },
           "mode": "markers",
           "name": "Fragment 2",
           "opacity": 1,
           "showlegend": true,
           "type": "scatter3d",
           "x": [
            0.891108
           ],
           "y": [
            0.546733
           ],
           "z": [
            -0.004753
           ]
          },
          {
           "hoverinfo": "text",
           "hovertext": "Fragment 2",
           "legendgroup": "Fragment 2",
           "line": {
            "color": "#33FF57",
            "width": 12.271325204000146
           },
           "mode": "lines",
           "name": "Fragment 2",
           "opacity": 0.7,
           "showlegend": false,
           "type": "scatter3d",
           "x": [],
           "y": [],
           "z": []
          },
          {
           "hoverinfo": "text",
           "hovertext": "Fragment 3",
           "legendgroup": "Fragment 3",
           "marker": {
            "color": "#3357FF",
            "size": 6.109243748081782
           },
           "mode": "markers",
           "name": "Fragment 3",
           "opacity": 1,
           "showlegend": true,
           "type": "scatter3d",
           "x": [
            -4.130482
           ],
           "y": [
            0.574755
           ],
           "z": [
            -0.005659
           ]
          },
          {
           "hoverinfo": "text",
           "hovertext": "Fragment 3",
           "legendgroup": "Fragment 3",
           "line": {
            "color": "#3357FF",
            "width": 12.271325204000146
           },
           "mode": "lines",
           "name": "Fragment 3",
           "opacity": 0.7,
           "showlegend": false,
           "type": "scatter3d",
           "x": [],
           "y": [],
           "z": []
          }
         ],
         "name": "12"
        },
        {
         "data": [
          {
           "hoverinfo": "text",
           "hovertext": "Fragment 1",
           "legendgroup": "Fragment 1",
           "marker": {
            "color": "#FF5733",
            "size": 6.109243748081782
           },
           "mode": "markers",
           "name": "Fragment 1",
           "opacity": 1,
           "showlegend": true,
           "type": "scatter3d",
           "x": [
            -1.842429,
            -1.733983,
            -1.737821,
            -1.73152
           ],
           "y": [
            0.542385,
            0.611902,
            -0.41086,
            1.443218
           ],
           "z": [
            0.005056,
            1.085552,
            -0.509193,
            -0.572876
           ]
          },
          {
           "hoverinfo": "text",
           "hovertext": "Fragment 1",
           "legendgroup": "Fragment 1",
           "line": {
            "color": "#FF5733",
            "width": 12.271325204000146
           },
           "mode": "lines",
           "name": "Fragment 1",
           "opacity": 0.7,
           "showlegend": false,
           "type": "scatter3d",
           "x": [
            -1.842429,
            -1.733983,
            null,
            -1.842429,
            -1.737821,
            null,
            -1.842429,
            -1.73152,
            null
           ],
           "y": [
            0.542385,
            0.611902,
            null,
            0.542385,
            -0.41086,
            null,
            0.542385,
            1.443218,
            null
           ],
           "z": [
            0.005056,
            1.085552,
            null,
            0.005056,
            -0.509193,
            null,
            0.005056,
            -0.572876,
            null
           ]
          },
          {
           "hoverinfo": "text",
           "hovertext": "Fragment 2",
           "legendgroup": "Fragment 2",
           "marker": {
            "color": "#33FF57",
            "size": 6.109243748081782
           },
           "mode": "markers",
           "name": "Fragment 2",
           "opacity": 1,
           "showlegend": true,
           "type": "scatter3d",
           "x": [
            0.914208
           ],
           "y": [
            0.545368
           ],
           "z": [
            -0.004195
           ]
          },
          {
           "hoverinfo": "text",
           "hovertext": "Fragment 2",
           "legendgroup": "Fragment 2",
           "line": {
            "color": "#33FF57",
            "width": 12.271325204000146
           },
           "mode": "lines",
           "name": "Fragment 2",
           "opacity": 0.7,
           "showlegend": false,
           "type": "scatter3d",
           "x": [],
           "y": [],
           "z": []
          },
          {
           "hoverinfo": "text",
           "hovertext": "Fragment 3",
           "legendgroup": "Fragment 3",
           "marker": {
            "color": "#3357FF",
            "size": 6.109243748081782
           },
           "mode": "markers",
           "name": "Fragment 3",
           "opacity": 1,
           "showlegend": true,
           "type": "scatter3d",
           "x": [
            -4.106097
           ],
           "y": [
            0.573715
           ],
           "z": [
            -0.005369
           ]
          },
          {
           "hoverinfo": "text",
           "hovertext": "Fragment 3",
           "legendgroup": "Fragment 3",
           "line": {
            "color": "#3357FF",
            "width": 12.271325204000146
           },
           "mode": "lines",
           "name": "Fragment 3",
           "opacity": 0.7,
           "showlegend": false,
           "type": "scatter3d",
           "x": [],
           "y": [],
           "z": []
          }
         ],
         "name": "13"
        },
        {
         "data": [
          {
           "hoverinfo": "text",
           "hovertext": "Fragment 1",
           "legendgroup": "Fragment 1",
           "marker": {
            "color": "#FF5733",
            "size": 6.109243748081782
           },
           "mode": "markers",
           "name": "Fragment 1",
           "opacity": 1,
           "showlegend": true,
           "type": "scatter3d",
           "x": [
            -1.878061,
            -1.731779,
            -1.735833,
            -1.729592
           ],
           "y": [
            0.542888,
            0.611626,
            -0.407236,
            1.440948
           ],
           "z": [
            0.004907,
            1.081499,
            -0.507162,
            -0.571361
           ]
          },
          {
           "hoverinfo": "text",
           "hovertext": "Fragment 1",
           "legendgroup": "Fragment 1",
           "line": {
            "color": "#FF5733",
            "width": 12.271325204000146
           },
           "mode": "lines",
           "name": "Fragment 1",
           "opacity": 0.7,
           "showlegend": false,
           "type": "scatter3d",
           "x": [
            -1.878061,
            -1.731779,
            null,
            -1.878061,
            -1.735833,
            null,
            -1.878061,
            -1.729592,
            null
           ],
           "y": [
            0.542888,
            0.611626,
            null,
            0.542888,
            -0.407236,
            null,
            0.542888,
            1.440948,
            null
           ],
           "z": [
            0.004907,
            1.081499,
            null,
            0.004907,
            -0.507162,
            null,
            0.004907,
            -0.571361,
            null
           ]
          },
          {
           "hoverinfo": "text",
           "hovertext": "Fragment 2",
           "legendgroup": "Fragment 2",
           "marker": {
            "color": "#33FF57",
            "size": 6.109243748081782
           },
           "mode": "markers",
           "name": "Fragment 2",
           "opacity": 1,
           "showlegend": true,
           "type": "scatter3d",
           "x": [
            0.943081
           ],
           "y": [
            0.543765
           ],
           "z": [
            -0.003568
           ]
          },
          {
           "hoverinfo": "text",
           "hovertext": "Fragment 2",
           "legendgroup": "Fragment 2",
           "line": {
            "color": "#33FF57",
            "width": 12.271325204000146
           },
           "mode": "lines",
           "name": "Fragment 2",
           "opacity": 0.7,
           "showlegend": false,
           "type": "scatter3d",
           "x": [],
           "y": [],
           "z": []
          },
          {
           "hoverinfo": "text",
           "hovertext": "Fragment 3",
           "legendgroup": "Fragment 3",
           "marker": {
            "color": "#3357FF",
            "size": 6.109243748081782
           },
           "mode": "markers",
           "name": "Fragment 3",
           "opacity": 1,
           "showlegend": true,
           "type": "scatter3d",
           "x": [
            -4.076101
           ],
           "y": [
            0.572311
           ],
           "z": [
            -0.004926
           ]
          },
          {
           "hoverinfo": "text",
           "hovertext": "Fragment 3",
           "legendgroup": "Fragment 3",
           "line": {
            "color": "#3357FF",
            "width": 12.271325204000146
           },
           "mode": "lines",
           "name": "Fragment 3",
           "opacity": 0.7,
           "showlegend": false,
           "type": "scatter3d",
           "x": [],
           "y": [],
           "z": []
          }
         ],
         "name": "14"
        },
        {
         "data": [
          {
           "hoverinfo": "text",
           "hovertext": "Fragment 1",
           "legendgroup": "Fragment 1",
           "marker": {
            "color": "#FF5733",
            "size": 6.109243748081782
           },
           "mode": "markers",
           "name": "Fragment 1",
           "opacity": 1,
           "showlegend": true,
           "type": "scatter3d",
           "x": [
            -1.909415,
            -1.725511,
            -1.729764,
            -1.723466
           ],
           "y": [
            0.543469,
            0.611084,
            -0.402613,
            1.437928
           ],
           "z": [
            0.004648,
            1.076159,
            -0.504451,
            -0.569434
           ]
          },
          {
           "hoverinfo": "text",
           "hovertext": "Fragment 1",
           "legendgroup": "Fragment 1",
           "line": {
            "color": "#FF5733",
            "width": 12.271325204000146
           },
           "mode": "lines",
           "name": "Fragment 1",
           "opacity": 0.7,
           "showlegend": false,
           "type": "scatter3d",
           "x": [
            -1.909415,
            -1.725511,
            null,
            -1.909415,
            -1.729764,
            null,
            -1.909415,
            -1.723466,
            null
           ],
           "y": [
            0.543469,
            0.611084,
            null,
            0.543469,
            -0.402613,
            null,
            0.543469,
            1.437928,
            null
           ],
           "z": [
            0.004648,
            1.076159,
            null,
            0.004648,
            -0.504451,
            null,
            0.004648,
            -0.569434,
            null
           ]
          },
          {
           "hoverinfo": "text",
           "hovertext": "Fragment 2",
           "legendgroup": "Fragment 2",
           "marker": {
            "color": "#33FF57",
            "size": 6.109243748081782
           },
           "mode": "markers",
           "name": "Fragment 2",
           "opacity": 1,
           "showlegend": true,
           "type": "scatter3d",
           "x": [
            0.976472
           ],
           "y": [
            0.541999
           ],
           "z": [
            -0.002896
           ]
          },
          {
           "hoverinfo": "text",
           "hovertext": "Fragment 2",
           "legendgroup": "Fragment 2",
           "line": {
            "color": "#33FF57",
            "width": 12.271325204000146
           },
           "mode": "lines",
           "name": "Fragment 2",
           "opacity": 0.7,
           "showlegend": false,
           "type": "scatter3d",
           "x": [],
           "y": [],
           "z": []
          },
          {
           "hoverinfo": "text",
           "hovertext": "Fragment 3",
           "legendgroup": "Fragment 3",
           "marker": {
            "color": "#3357FF",
            "size": 6.109243748081782
           },
           "mode": "markers",
           "name": "Fragment 3",
           "opacity": 1,
           "showlegend": true,
           "type": "scatter3d",
           "x": [
            -4.04175
           ],
           "y": [
            0.570606
           ],
           "z": [
            -0.004346
           ]
          },
          {
           "hoverinfo": "text",
           "hovertext": "Fragment 3",
           "legendgroup": "Fragment 3",
           "line": {
            "color": "#3357FF",
            "width": 12.271325204000146
           },
           "mode": "lines",
           "name": "Fragment 3",
           "opacity": 0.7,
           "showlegend": false,
           "type": "scatter3d",
           "x": [],
           "y": [],
           "z": []
          }
         ],
         "name": "15"
        },
        {
         "data": [
          {
           "hoverinfo": "text",
           "hovertext": "Fragment 1",
           "legendgroup": "Fragment 1",
           "marker": {
            "color": "#FF5733",
            "size": 6.109243748081782
           },
           "mode": "markers",
           "name": "Fragment 1",
           "opacity": 1,
           "showlegend": true,
           "type": "scatter3d",
           "x": [
            -1.93726,
            -1.715968,
            -1.720402,
            -1.71393
           ],
           "y": [
            0.544191,
            0.610157,
            -0.396967,
            1.434179
           ],
           "z": [
            0.00425,
            1.069459,
            -0.500902,
            -0.567096
           ]
          },
          {
           "hoverinfo": "text",
           "hovertext": "Fragment 1",
           "legendgroup": "Fragment 1",
           "line": {
            "color": "#FF5733",
            "width": 12.271325204000146
           },
           "mode": "lines",
           "name": "Fragment 1",
           "opacity": 0.7,
           "showlegend": false,
           "type": "scatter3d",
           "x": [
            -1.93726,
            -1.715968,
            null,
            -1.93726,
            -1.720402,
            null,
            -1.93726,
            -1.71393,
            null
           ],
           "y": [
            0.544191,
            0.610157,
            null,
            0.544191,
            -0.396967,
            null,
            0.544191,
            1.434179,
            null
           ],
           "z": [
            0.00425,
            1.069459,
            null,
            0.00425,
            -0.500902,
            null,
            0.00425,
            -0.567096,
            null
           ]
          },
          {
           "hoverinfo": "text",
           "hovertext": "Fragment 2",
           "legendgroup": "Fragment 2",
           "marker": {
            "color": "#33FF57",
            "size": 6.109243748081782
           },
           "mode": "markers",
           "name": "Fragment 2",
           "opacity": 1,
           "showlegend": true,
           "type": "scatter3d",
           "x": [
            1.0136
           ],
           "y": [
            0.54014
           ],
           "z": [
            -0.00221
           ]
          },
          {
           "hoverinfo": "text",
           "hovertext": "Fragment 2",
           "legendgroup": "Fragment 2",
           "line": {
            "color": "#33FF57",
            "width": 12.271325204000146
           },
           "mode": "lines",
           "name": "Fragment 2",
           "opacity": 0.7,
           "showlegend": false,
           "type": "scatter3d",
           "x": [],
           "y": [],
           "z": []
          },
          {
           "hoverinfo": "text",
           "hovertext": "Fragment 3",
           "legendgroup": "Fragment 3",
           "marker": {
            "color": "#3357FF",
            "size": 6.109243748081782
           },
           "mode": "markers",
           "name": "Fragment 3",
           "opacity": 1,
           "showlegend": true,
           "type": "scatter3d",
           "x": [
            -4.003838
           ],
           "y": [
            0.56866
           ],
           "z": [
            -0.003651
           ]
          },
          {
           "hoverinfo": "text",
           "hovertext": "Fragment 3",
           "legendgroup": "Fragment 3",
           "line": {
            "color": "#3357FF",
            "width": 12.271325204000146
           },
           "mode": "lines",
           "name": "Fragment 3",
           "opacity": 0.7,
           "showlegend": false,
           "type": "scatter3d",
           "x": [],
           "y": [],
           "z": []
          }
         ],
         "name": "16"
        },
        {
         "data": [
          {
           "hoverinfo": "text",
           "hovertext": "Fragment 1",
           "legendgroup": "Fragment 1",
           "marker": {
            "color": "#FF5733",
            "size": 6.109243748081782
           },
           "mode": "markers",
           "name": "Fragment 1",
           "opacity": 1,
           "showlegend": true,
           "type": "scatter3d",
           "x": [
            -1.962113,
            -1.703765,
            -1.708356,
            -1.701556
           ],
           "y": [
            0.545138,
            0.608624,
            -0.39021,
            1.429679
           ],
           "z": [
            0.003669,
            1.061212,
            -0.496224,
            -0.564322
           ]
          },
          {
           "hoverinfo": "text",
           "hovertext": "Fragment 1",
           "legendgroup": "Fragment 1",
           "line": {
            "color": "#FF5733",
            "width": 12.271325204000146
           },
           "mode": "lines",
           "name": "Fragment 1",
           "opacity": 0.7,
           "showlegend": false,
           "type": "scatter3d",
           "x": [
            -1.962113,
            -1.703765,
            null,
            -1.962113,
            -1.708356,
            null,
            -1.962113,
            -1.701556,
            null
           ],
           "y": [
            0.545138,
            0.608624,
            null,
            0.545138,
            -0.39021,
            null,
            0.545138,
            1.429679,
            null
           ],
           "z": [
            0.003669,
            1.061212,
            null,
            0.003669,
            -0.496224,
            null,
            0.003669,
            -0.564322,
            null
           ]
          },
          {
           "hoverinfo": "text",
           "hovertext": "Fragment 2",
           "legendgroup": "Fragment 2",
           "marker": {
            "color": "#33FF57",
            "size": 6.109243748081782
           },
           "mode": "markers",
           "name": "Fragment 2",
           "opacity": 1,
           "showlegend": true,
           "type": "scatter3d",
           "x": [
            1.053926
           ],
           "y": [
            0.53828
           ],
           "z": [
            -0.001555
           ]
          },
          {
           "hoverinfo": "text",
           "hovertext": "Fragment 2",
           "legendgroup": "Fragment 2",
           "line": {
            "color": "#33FF57",
            "width": 12.271325204000146
           },
           "mode": "lines",
           "name": "Fragment 2",
           "opacity": 0.7,
           "showlegend": false,
           "type": "scatter3d",
           "x": [],
           "y": [],
           "z": []
          },
          {
           "hoverinfo": "text",
           "hovertext": "Fragment 3",
           "legendgroup": "Fragment 3",
           "marker": {
            "color": "#3357FF",
            "size": 6.109243748081782
           },
           "mode": "markers",
           "name": "Fragment 3",
           "opacity": 1,
           "showlegend": true,
           "type": "scatter3d",
           "x": [
            -3.962931
           ],
           "y": [
            0.566542
           ],
           "z": [
            -0.002873
           ]
          },
          {
           "hoverinfo": "text",
           "hovertext": "Fragment 3",
           "legendgroup": "Fragment 3",
           "line": {
            "color": "#3357FF",
            "width": 12.271325204000146
           },
           "mode": "lines",
           "name": "Fragment 3",
           "opacity": 0.7,
           "showlegend": false,
           "type": "scatter3d",
           "x": [],
           "y": [],
           "z": []
          }
         ],
         "name": "17"
        },
        {
         "data": [
          {
           "hoverinfo": "text",
           "hovertext": "Fragment 1",
           "legendgroup": "Fragment 1",
           "marker": {
            "color": "#FF5733",
            "size": 6.109243748081782
           },
           "mode": "markers",
           "name": "Fragment 1",
           "opacity": 1,
           "showlegend": true,
           "type": "scatter3d",
           "x": [
            -2.057102,
            -1.69645,
            -1.701169,
            -1.694343
           ],
           "y": [
            0.550513,
            0.59759,
            -0.362061,
            1.412552
           ],
           "z": [
            0.000642,
            1.025256,
            -0.471265,
            -0.553247
           ]
          },
          {
           "hoverinfo": "text",
           "hovertext": "Fragment 1",
           "legendgroup": "Fragment 1",
           "line": {
            "color": "#FF5733",
            "width": 12.271325204000146
           },
           "mode": "lines",
           "name": "Fragment 1",
           "opacity": 0.7,
           "showlegend": false,
           "type": "scatter3d",
           "x": [
            -2.057102,
            -1.69645,
            null,
            -2.057102,
            -1.701169,
            null,
            -2.057102,
            -1.694343,
            null
           ],
           "y": [
            0.550513,
            0.59759,
            null,
            0.550513,
            -0.362061,
            null,
            0.550513,
            1.412552,
            null
           ],
           "z": [
            0.000642,
            1.025256,
            null,
            0.000642,
            -0.471265,
            null,
            0.000642,
            -0.553247,
            null
           ]
          },
          {
           "hoverinfo": "text",
           "hovertext": "Fragment 2",
           "legendgroup": "Fragment 2",
           "marker": {
            "color": "#33FF57",
            "size": 6.109243748081782
           },
           "mode": "markers",
           "name": "Fragment 2",
           "opacity": 1,
           "showlegend": true,
           "type": "scatter3d",
           "x": [
            1.144979
           ],
           "y": [
            0.538859
           ],
           "z": [
            -0.002771
           ]
          },
          {
           "hoverinfo": "text",
           "hovertext": "Fragment 2",
           "legendgroup": "Fragment 2",
           "line": {
            "color": "#33FF57",
            "width": 12.271325204000146
           },
           "mode": "lines",
           "name": "Fragment 2",
           "opacity": 0.7,
           "showlegend": false,
           "type": "scatter3d",
           "x": [],
           "y": [],
           "z": []
          },
          {
           "hoverinfo": "text",
           "hovertext": "Fragment 3",
           "legendgroup": "Fragment 3",
           "marker": {
            "color": "#3357FF",
            "size": 6.109243748081782
           },
           "mode": "markers",
           "name": "Fragment 3",
           "opacity": 1,
           "showlegend": true,
           "type": "scatter3d",
           "x": [
            -3.871921
           ],
           "y": [
            0.558152
           ],
           "z": [
            0.001228
           ]
          },
          {
           "hoverinfo": "text",
           "hovertext": "Fragment 3",
           "legendgroup": "Fragment 3",
           "line": {
            "color": "#3357FF",
            "width": 12.271325204000146
           },
           "mode": "lines",
           "name": "Fragment 3",
           "opacity": 0.7,
           "showlegend": false,
           "type": "scatter3d",
           "x": [],
           "y": [],
           "z": []
          }
         ],
         "name": "18"
        },
        {
         "data": [
          {
           "hoverinfo": "text",
           "hovertext": "Fragment 1",
           "legendgroup": "Fragment 1",
           "marker": {
            "color": "#FF5733",
            "size": 6.109243748081782
           },
           "mode": "markers",
           "name": "Fragment 1",
           "opacity": 1,
           "showlegend": true,
           "type": "scatter3d",
           "x": [
            -2.079726,
            -1.716302,
            -1.721086,
            -1.711738
           ],
           "y": [
            0.551724,
            0.597582,
            -0.360355,
            1.412215
           ],
           "z": [
            0.000181,
            1.023606,
            -0.470061,
            -0.552817
           ]
          },
          {
           "hoverinfo": "text",
           "hovertext": "Fragment 1",
           "legendgroup": "Fragment 1",
           "line": {
            "color": "#FF5733",
            "width": 12.271325204000146
           },
           "mode": "lines",
           "name": "Fragment 1",
           "opacity": 0.7,
           "showlegend": false,
           "type": "scatter3d",
           "x": [
            -2.079726,
            -1.716302,
            null,
            -2.079726,
            -1.721086,
            null,
            -2.079726,
            -1.711738,
            null
           ],
           "y": [
            0.551724,
            0.597582,
            null,
            0.551724,
            -0.360355,
            null,
            0.551724,
            1.412215,
            null
           ],
           "z": [
            0.000181,
            1.023606,
            null,
            0.000181,
            -0.470061,
            null,
            0.000181,
            -0.552817,
            null
           ]
          },
          {
           "hoverinfo": "text",
           "hovertext": "Fragment 2",
           "legendgroup": "Fragment 2",
           "marker": {
            "color": "#33FF57",
            "size": 6.109243748081782
           },
           "mode": "markers",
           "name": "Fragment 2",
           "opacity": 1,
           "showlegend": true,
           "type": "scatter3d",
           "x": [
            1.128916
           ],
           "y": [
            0.535431
           ],
           "z": [
            -0.000439
           ]
          },
          {
           "hoverinfo": "text",
           "hovertext": "Fragment 2",
           "legendgroup": "Fragment 2",
           "line": {
            "color": "#33FF57",
            "width": 12.271325204000146
           },
           "mode": "lines",
           "name": "Fragment 2",
           "opacity": 0.7,
           "showlegend": false,
           "type": "scatter3d",
           "x": [],
           "y": [],
           "z": []
          },
          {
           "hoverinfo": "text",
           "hovertext": "Fragment 3",
           "legendgroup": "Fragment 3",
           "marker": {
            "color": "#3357FF",
            "size": 6.109243748081782
           },
           "mode": "markers",
           "name": "Fragment 3",
           "opacity": 1,
           "showlegend": true,
           "type": "scatter3d",
           "x": [
            -3.888003
           ],
           "y": [
            0.561313
           ],
           "z": [
            -0.000459
           ]
          },
          {
           "hoverinfo": "text",
           "hovertext": "Fragment 3",
           "legendgroup": "Fragment 3",
           "line": {
            "color": "#3357FF",
            "width": 12.271325204000146
           },
           "mode": "lines",
           "name": "Fragment 3",
           "opacity": 0.7,
           "showlegend": false,
           "type": "scatter3d",
           "x": [],
           "y": [],
           "z": []
          }
         ],
         "name": "19"
        }
       ],
       "layout": {
        "height": 600,
        "scene": {
         "aspectmode": "data",
         "aspectratio": {
          "x": 1,
          "y": 1,
          "z": 1
         },
         "camera": {
          "projection": {
           "type": "orthographic"
          }
         },
         "xaxis": {
          "range": [
           -4.502752,
           1.244979
          ],
          "visible": false
         },
         "yaxis": {
          "range": [
           -0.517415,
           1.545212
          ],
          "visible": false
         },
         "zaxis": {
          "range": [
           -0.6746489999999999,
           1.189978
          ],
          "visible": false
         }
        },
        "showlegend": true,
        "sliders": [
         {
          "active": 0,
          "currentvalue": {
           "font": {
            "size": 20
           },
           "prefix": "Frame: ",
           "visible": true,
           "xanchor": "right"
          },
          "len": 0.9,
          "pad": {
           "b": 10,
           "t": 50
          },
          "steps": [
           {
            "args": [
             [
              "0"
             ],
             {
              "frame": {
               "duration": 300,
               "redraw": true
              },
              "mode": "immediate",
              "transition": {
               "duration": 300
              }
             }
            ],
            "label": "0",
            "method": "animate"
           },
           {
            "args": [
             [
              "1"
             ],
             {
              "frame": {
               "duration": 300,
               "redraw": true
              },
              "mode": "immediate",
              "transition": {
               "duration": 300
              }
             }
            ],
            "label": "1",
            "method": "animate"
           },
           {
            "args": [
             [
              "2"
             ],
             {
              "frame": {
               "duration": 300,
               "redraw": true
              },
              "mode": "immediate",
              "transition": {
               "duration": 300
              }
             }
            ],
            "label": "2",
            "method": "animate"
           },
           {
            "args": [
             [
              "3"
             ],
             {
              "frame": {
               "duration": 300,
               "redraw": true
              },
              "mode": "immediate",
              "transition": {
               "duration": 300
              }
             }
            ],
            "label": "3",
            "method": "animate"
           },
           {
            "args": [
             [
              "4"
             ],
             {
              "frame": {
               "duration": 300,
               "redraw": true
              },
              "mode": "immediate",
              "transition": {
               "duration": 300
              }
             }
            ],
            "label": "4",
            "method": "animate"
           },
           {
            "args": [
             [
              "5"
             ],
             {
              "frame": {
               "duration": 300,
               "redraw": true
              },
              "mode": "immediate",
              "transition": {
               "duration": 300
              }
             }
            ],
            "label": "5",
            "method": "animate"
           },
           {
            "args": [
             [
              "6"
             ],
             {
              "frame": {
               "duration": 300,
               "redraw": true
              },
              "mode": "immediate",
              "transition": {
               "duration": 300
              }
             }
            ],
            "label": "6",
            "method": "animate"
           },
           {
            "args": [
             [
              "7"
             ],
             {
              "frame": {
               "duration": 300,
               "redraw": true
              },
              "mode": "immediate",
              "transition": {
               "duration": 300
              }
             }
            ],
            "label": "7",
            "method": "animate"
           },
           {
            "args": [
             [
              "8"
             ],
             {
              "frame": {
               "duration": 300,
               "redraw": true
              },
              "mode": "immediate",
              "transition": {
               "duration": 300
              }
             }
            ],
            "label": "8",
            "method": "animate"
           },
           {
            "args": [
             [
              "9"
             ],
             {
              "frame": {
               "duration": 300,
               "redraw": true
              },
              "mode": "immediate",
              "transition": {
               "duration": 300
              }
             }
            ],
            "label": "9",
            "method": "animate"
           },
           {
            "args": [
             [
              "10"
             ],
             {
              "frame": {
               "duration": 300,
               "redraw": true
              },
              "mode": "immediate",
              "transition": {
               "duration": 300
              }
             }
            ],
            "label": "10",
            "method": "animate"
           },
           {
            "args": [
             [
              "11"
             ],
             {
              "frame": {
               "duration": 300,
               "redraw": true
              },
              "mode": "immediate",
              "transition": {
               "duration": 300
              }
             }
            ],
            "label": "11",
            "method": "animate"
           },
           {
            "args": [
             [
              "12"
             ],
             {
              "frame": {
               "duration": 300,
               "redraw": true
              },
              "mode": "immediate",
              "transition": {
               "duration": 300
              }
             }
            ],
            "label": "12",
            "method": "animate"
           },
           {
            "args": [
             [
              "13"
             ],
             {
              "frame": {
               "duration": 300,
               "redraw": true
              },
              "mode": "immediate",
              "transition": {
               "duration": 300
              }
             }
            ],
            "label": "13",
            "method": "animate"
           },
           {
            "args": [
             [
              "14"
             ],
             {
              "frame": {
               "duration": 300,
               "redraw": true
              },
              "mode": "immediate",
              "transition": {
               "duration": 300
              }
             }
            ],
            "label": "14",
            "method": "animate"
           },
           {
            "args": [
             [
              "15"
             ],
             {
              "frame": {
               "duration": 300,
               "redraw": true
              },
              "mode": "immediate",
              "transition": {
               "duration": 300
              }
             }
            ],
            "label": "15",
            "method": "animate"
           },
           {
            "args": [
             [
              "16"
             ],
             {
              "frame": {
               "duration": 300,
               "redraw": true
              },
              "mode": "immediate",
              "transition": {
               "duration": 300
              }
             }
            ],
            "label": "16",
            "method": "animate"
           },
           {
            "args": [
             [
              "17"
             ],
             {
              "frame": {
               "duration": 300,
               "redraw": true
              },
              "mode": "immediate",
              "transition": {
               "duration": 300
              }
             }
            ],
            "label": "17",
            "method": "animate"
           },
           {
            "args": [
             [
              "18"
             ],
             {
              "frame": {
               "duration": 300,
               "redraw": true
              },
              "mode": "immediate",
              "transition": {
               "duration": 300
              }
             }
            ],
            "label": "18",
            "method": "animate"
           },
           {
            "args": [
             [
              "19"
             ],
             {
              "frame": {
               "duration": 300,
               "redraw": true
              },
              "mode": "immediate",
              "transition": {
               "duration": 300
              }
             }
            ],
            "label": "19",
            "method": "animate"
           }
          ],
          "transition": {
           "duration": 300,
           "easing": "cubic-in-out"
          },
          "x": 0.1,
          "xanchor": "left",
          "y": 0,
          "yanchor": "top"
         }
        ],
        "template": {
         "data": {
          "bar": [
           {
            "error_x": {
             "color": "#2a3f5f"
            },
            "error_y": {
             "color": "#2a3f5f"
            },
            "marker": {
             "line": {
              "color": "#E5ECF6",
              "width": 0.5
             },
             "pattern": {
              "fillmode": "overlay",
              "size": 10,
              "solidity": 0.2
             }
            },
            "type": "bar"
           }
          ],
          "barpolar": [
           {
            "marker": {
             "line": {
              "color": "#E5ECF6",
              "width": 0.5
             },
             "pattern": {
              "fillmode": "overlay",
              "size": 10,
              "solidity": 0.2
             }
            },
            "type": "barpolar"
           }
          ],
          "carpet": [
           {
            "aaxis": {
             "endlinecolor": "#2a3f5f",
             "gridcolor": "white",
             "linecolor": "white",
             "minorgridcolor": "white",
             "startlinecolor": "#2a3f5f"
            },
            "baxis": {
             "endlinecolor": "#2a3f5f",
             "gridcolor": "white",
             "linecolor": "white",
             "minorgridcolor": "white",
             "startlinecolor": "#2a3f5f"
            },
            "type": "carpet"
           }
          ],
          "choropleth": [
           {
            "colorbar": {
             "outlinewidth": 0,
             "ticks": ""
            },
            "type": "choropleth"
           }
          ],
          "contour": [
           {
            "colorbar": {
             "outlinewidth": 0,
             "ticks": ""
            },
            "colorscale": [
             [
              0,
              "#0d0887"
             ],
             [
              0.1111111111111111,
              "#46039f"
             ],
             [
              0.2222222222222222,
              "#7201a8"
             ],
             [
              0.3333333333333333,
              "#9c179e"
             ],
             [
              0.4444444444444444,
              "#bd3786"
             ],
             [
              0.5555555555555556,
              "#d8576b"
             ],
             [
              0.6666666666666666,
              "#ed7953"
             ],
             [
              0.7777777777777778,
              "#fb9f3a"
             ],
             [
              0.8888888888888888,
              "#fdca26"
             ],
             [
              1,
              "#f0f921"
             ]
            ],
            "type": "contour"
           }
          ],
          "contourcarpet": [
           {
            "colorbar": {
             "outlinewidth": 0,
             "ticks": ""
            },
            "type": "contourcarpet"
           }
          ],
          "heatmap": [
           {
            "colorbar": {
             "outlinewidth": 0,
             "ticks": ""
            },
            "colorscale": [
             [
              0,
              "#0d0887"
             ],
             [
              0.1111111111111111,
              "#46039f"
             ],
             [
              0.2222222222222222,
              "#7201a8"
             ],
             [
              0.3333333333333333,
              "#9c179e"
             ],
             [
              0.4444444444444444,
              "#bd3786"
             ],
             [
              0.5555555555555556,
              "#d8576b"
             ],
             [
              0.6666666666666666,
              "#ed7953"
             ],
             [
              0.7777777777777778,
              "#fb9f3a"
             ],
             [
              0.8888888888888888,
              "#fdca26"
             ],
             [
              1,
              "#f0f921"
             ]
            ],
            "type": "heatmap"
           }
          ],
          "heatmapgl": [
           {
            "colorbar": {
             "outlinewidth": 0,
             "ticks": ""
            },
            "colorscale": [
             [
              0,
              "#0d0887"
             ],
             [
              0.1111111111111111,
              "#46039f"
             ],
             [
              0.2222222222222222,
              "#7201a8"
             ],
             [
              0.3333333333333333,
              "#9c179e"
             ],
             [
              0.4444444444444444,
              "#bd3786"
             ],
             [
              0.5555555555555556,
              "#d8576b"
             ],
             [
              0.6666666666666666,
              "#ed7953"
             ],
             [
              0.7777777777777778,
              "#fb9f3a"
             ],
             [
              0.8888888888888888,
              "#fdca26"
             ],
             [
              1,
              "#f0f921"
             ]
            ],
            "type": "heatmapgl"
           }
          ],
          "histogram": [
           {
            "marker": {
             "pattern": {
              "fillmode": "overlay",
              "size": 10,
              "solidity": 0.2
             }
            },
            "type": "histogram"
           }
          ],
          "histogram2d": [
           {
            "colorbar": {
             "outlinewidth": 0,
             "ticks": ""
            },
            "colorscale": [
             [
              0,
              "#0d0887"
             ],
             [
              0.1111111111111111,
              "#46039f"
             ],
             [
              0.2222222222222222,
              "#7201a8"
             ],
             [
              0.3333333333333333,
              "#9c179e"
             ],
             [
              0.4444444444444444,
              "#bd3786"
             ],
             [
              0.5555555555555556,
              "#d8576b"
             ],
             [
              0.6666666666666666,
              "#ed7953"
             ],
             [
              0.7777777777777778,
              "#fb9f3a"
             ],
             [
              0.8888888888888888,
              "#fdca26"
             ],
             [
              1,
              "#f0f921"
             ]
            ],
            "type": "histogram2d"
           }
          ],
          "histogram2dcontour": [
           {
            "colorbar": {
             "outlinewidth": 0,
             "ticks": ""
            },
            "colorscale": [
             [
              0,
              "#0d0887"
             ],
             [
              0.1111111111111111,
              "#46039f"
             ],
             [
              0.2222222222222222,
              "#7201a8"
             ],
             [
              0.3333333333333333,
              "#9c179e"
             ],
             [
              0.4444444444444444,
              "#bd3786"
             ],
             [
              0.5555555555555556,
              "#d8576b"
             ],
             [
              0.6666666666666666,
              "#ed7953"
             ],
             [
              0.7777777777777778,
              "#fb9f3a"
             ],
             [
              0.8888888888888888,
              "#fdca26"
             ],
             [
              1,
              "#f0f921"
             ]
            ],
            "type": "histogram2dcontour"
           }
          ],
          "mesh3d": [
           {
            "colorbar": {
             "outlinewidth": 0,
             "ticks": ""
            },
            "type": "mesh3d"
           }
          ],
          "parcoords": [
           {
            "line": {
             "colorbar": {
              "outlinewidth": 0,
              "ticks": ""
             }
            },
            "type": "parcoords"
           }
          ],
          "pie": [
           {
            "automargin": true,
            "type": "pie"
           }
          ],
          "scatter": [
           {
            "fillpattern": {
             "fillmode": "overlay",
             "size": 10,
             "solidity": 0.2
            },
            "type": "scatter"
           }
          ],
          "scatter3d": [
           {
            "line": {
             "colorbar": {
              "outlinewidth": 0,
              "ticks": ""
             }
            },
            "marker": {
             "colorbar": {
              "outlinewidth": 0,
              "ticks": ""
             }
            },
            "type": "scatter3d"
           }
          ],
          "scattercarpet": [
           {
            "marker": {
             "colorbar": {
              "outlinewidth": 0,
              "ticks": ""
             }
            },
            "type": "scattercarpet"
           }
          ],
          "scattergeo": [
           {
            "marker": {
             "colorbar": {
              "outlinewidth": 0,
              "ticks": ""
             }
            },
            "type": "scattergeo"
           }
          ],
          "scattergl": [
           {
            "marker": {
             "colorbar": {
              "outlinewidth": 0,
              "ticks": ""
             }
            },
            "type": "scattergl"
           }
          ],
          "scattermapbox": [
           {
            "marker": {
             "colorbar": {
              "outlinewidth": 0,
              "ticks": ""
             }
            },
            "type": "scattermapbox"
           }
          ],
          "scatterpolar": [
           {
            "marker": {
             "colorbar": {
              "outlinewidth": 0,
              "ticks": ""
             }
            },
            "type": "scatterpolar"
           }
          ],
          "scatterpolargl": [
           {
            "marker": {
             "colorbar": {
              "outlinewidth": 0,
              "ticks": ""
             }
            },
            "type": "scatterpolargl"
           }
          ],
          "scatterternary": [
           {
            "marker": {
             "colorbar": {
              "outlinewidth": 0,
              "ticks": ""
             }
            },
            "type": "scatterternary"
           }
          ],
          "surface": [
           {
            "colorbar": {
             "outlinewidth": 0,
             "ticks": ""
            },
            "colorscale": [
             [
              0,
              "#0d0887"
             ],
             [
              0.1111111111111111,
              "#46039f"
             ],
             [
              0.2222222222222222,
              "#7201a8"
             ],
             [
              0.3333333333333333,
              "#9c179e"
             ],
             [
              0.4444444444444444,
              "#bd3786"
             ],
             [
              0.5555555555555556,
              "#d8576b"
             ],
             [
              0.6666666666666666,
              "#ed7953"
             ],
             [
              0.7777777777777778,
              "#fb9f3a"
             ],
             [
              0.8888888888888888,
              "#fdca26"
             ],
             [
              1,
              "#f0f921"
             ]
            ],
            "type": "surface"
           }
          ],
          "table": [
           {
            "cells": {
             "fill": {
              "color": "#EBF0F8"
             },
             "line": {
              "color": "white"
             }
            },
            "header": {
             "fill": {
              "color": "#C8D4E3"
             },
             "line": {
              "color": "white"
             }
            },
            "type": "table"
           }
          ]
         },
         "layout": {
          "annotationdefaults": {
           "arrowcolor": "#2a3f5f",
           "arrowhead": 0,
           "arrowwidth": 1
          },
          "autotypenumbers": "strict",
          "coloraxis": {
           "colorbar": {
            "outlinewidth": 0,
            "ticks": ""
           }
          },
          "colorscale": {
           "diverging": [
            [
             0,
             "#8e0152"
            ],
            [
             0.1,
             "#c51b7d"
            ],
            [
             0.2,
             "#de77ae"
            ],
            [
             0.3,
             "#f1b6da"
            ],
            [
             0.4,
             "#fde0ef"
            ],
            [
             0.5,
             "#f7f7f7"
            ],
            [
             0.6,
             "#e6f5d0"
            ],
            [
             0.7,
             "#b8e186"
            ],
            [
             0.8,
             "#7fbc41"
            ],
            [
             0.9,
             "#4d9221"
            ],
            [
             1,
             "#276419"
            ]
           ],
           "sequential": [
            [
             0,
             "#0d0887"
            ],
            [
             0.1111111111111111,
             "#46039f"
            ],
            [
             0.2222222222222222,
             "#7201a8"
            ],
            [
             0.3333333333333333,
             "#9c179e"
            ],
            [
             0.4444444444444444,
             "#bd3786"
            ],
            [
             0.5555555555555556,
             "#d8576b"
            ],
            [
             0.6666666666666666,
             "#ed7953"
            ],
            [
             0.7777777777777778,
             "#fb9f3a"
            ],
            [
             0.8888888888888888,
             "#fdca26"
            ],
            [
             1,
             "#f0f921"
            ]
           ],
           "sequentialminus": [
            [
             0,
             "#0d0887"
            ],
            [
             0.1111111111111111,
             "#46039f"
            ],
            [
             0.2222222222222222,
             "#7201a8"
            ],
            [
             0.3333333333333333,
             "#9c179e"
            ],
            [
             0.4444444444444444,
             "#bd3786"
            ],
            [
             0.5555555555555556,
             "#d8576b"
            ],
            [
             0.6666666666666666,
             "#ed7953"
            ],
            [
             0.7777777777777778,
             "#fb9f3a"
            ],
            [
             0.8888888888888888,
             "#fdca26"
            ],
            [
             1,
             "#f0f921"
            ]
           ]
          },
          "colorway": [
           "#636efa",
           "#EF553B",
           "#00cc96",
           "#ab63fa",
           "#FFA15A",
           "#19d3f3",
           "#FF6692",
           "#B6E880",
           "#FF97FF",
           "#FECB52"
          ],
          "font": {
           "color": "#2a3f5f"
          },
          "geo": {
           "bgcolor": "white",
           "lakecolor": "white",
           "landcolor": "#E5ECF6",
           "showlakes": true,
           "showland": true,
           "subunitcolor": "white"
          },
          "hoverlabel": {
           "align": "left"
          },
          "hovermode": "closest",
          "mapbox": {
           "style": "light"
          },
          "paper_bgcolor": "white",
          "plot_bgcolor": "#E5ECF6",
          "polar": {
           "angularaxis": {
            "gridcolor": "white",
            "linecolor": "white",
            "ticks": ""
           },
           "bgcolor": "#E5ECF6",
           "radialaxis": {
            "gridcolor": "white",
            "linecolor": "white",
            "ticks": ""
           }
          },
          "scene": {
           "xaxis": {
            "backgroundcolor": "#E5ECF6",
            "gridcolor": "white",
            "gridwidth": 2,
            "linecolor": "white",
            "showbackground": true,
            "ticks": "",
            "zerolinecolor": "white"
           },
           "yaxis": {
            "backgroundcolor": "#E5ECF6",
            "gridcolor": "white",
            "gridwidth": 2,
            "linecolor": "white",
            "showbackground": true,
            "ticks": "",
            "zerolinecolor": "white"
           },
           "zaxis": {
            "backgroundcolor": "#E5ECF6",
            "gridcolor": "white",
            "gridwidth": 2,
            "linecolor": "white",
            "showbackground": true,
            "ticks": "",
            "zerolinecolor": "white"
           }
          },
          "shapedefaults": {
           "line": {
            "color": "#2a3f5f"
           }
          },
          "ternary": {
           "aaxis": {
            "gridcolor": "white",
            "linecolor": "white",
            "ticks": ""
           },
           "baxis": {
            "gridcolor": "white",
            "linecolor": "white",
            "ticks": ""
           },
           "bgcolor": "#E5ECF6",
           "caxis": {
            "gridcolor": "white",
            "linecolor": "white",
            "ticks": ""
           }
          },
          "title": {
           "x": 0.05
          },
          "xaxis": {
           "automargin": true,
           "gridcolor": "white",
           "linecolor": "white",
           "ticks": "",
           "title": {
            "standoff": 15
           },
           "zerolinecolor": "white",
           "zerolinewidth": 2
          },
          "yaxis": {
           "automargin": true,
           "gridcolor": "white",
           "linecolor": "white",
           "ticks": "",
           "title": {
            "standoff": 15
           },
           "zerolinecolor": "white",
           "zerolinewidth": 2
          }
         }
        },
        "updatemenus": [
         {
          "buttons": [
           {
            "args": [
             null,
             {
              "frame": {
               "duration": 30,
               "redraw": true
              },
              "fromcurrent": true,
              "transition": {
               "duration": 10,
               "easing": "quadratic-in-out"
              }
             }
            ],
            "label": "Play",
            "method": "animate"
           },
           {
            "args": [
             [
              null
             ],
             {
              "frame": {
               "duration": 0,
               "redraw": true
              },
              "mode": "immediate",
              "transition": {
               "duration": 0
              }
             }
            ],
            "label": "Pause",
            "method": "animate"
           }
          ],
          "direction": "left",
          "pad": {
           "r": 10,
           "t": 87
          },
          "showactive": false,
          "type": "buttons",
          "x": 0.1,
          "xanchor": "right",
          "y": 0,
          "yanchor": "top"
         }
        ],
        "width": 800
       }
      },
      "text/html": [
       "<div>                            <div id=\"dc24f87a-5305-4d5a-857b-1be0ff6eb55e\" class=\"plotly-graph-div\" style=\"height:600px; width:800px;\"></div>            <script type=\"text/javascript\">                require([\"plotly\"], function(Plotly) {                    window.PLOTLYENV=window.PLOTLYENV || {};                                    if (document.getElementById(\"dc24f87a-5305-4d5a-857b-1be0ff6eb55e\")) {                    Plotly.newPlot(                        \"dc24f87a-5305-4d5a-857b-1be0ff6eb55e\",                        [{\"hoverinfo\":\"text\",\"hovertext\":\"Fragment 1\",\"legendgroup\":\"Fragment 1\",\"marker\":{\"color\":\"#FF5733\",\"size\":6.109243748081782},\"mode\":\"markers\",\"name\":\"Fragment 1\",\"opacity\":1,\"showlegend\":true,\"x\":[-1.277168,-1.652166,-1.652215,-1.651698],\"y\":[0.545365,0.593222,-0.359651,1.403205],\"z\":[-6.3e-05,1.017641,-0.467952,-0.550042],\"type\":\"scatter3d\"},{\"hoverinfo\":\"text\",\"hovertext\":\"Fragment 1\",\"legendgroup\":\"Fragment 1\",\"line\":{\"color\":\"#FF5733\",\"width\":12.271325204000146},\"mode\":\"lines\",\"name\":\"Fragment 1\",\"opacity\":0.7,\"showlegend\":false,\"x\":[-1.277168,-1.652166,null,-1.277168,-1.652215,null,-1.277168,-1.651698,null],\"y\":[0.545365,0.593222,null,0.545365,-0.359651,null,0.545365,1.403205,null],\"z\":[-6.3e-05,1.017641,null,-6.3e-05,-0.467952,null,-6.3e-05,-0.550042,null],\"type\":\"scatter3d\"},{\"hoverinfo\":\"text\",\"hovertext\":\"Fragment 2\",\"legendgroup\":\"Fragment 2\",\"marker\":{\"color\":\"#33FF57\",\"size\":6.109243748081782},\"mode\":\"markers\",\"name\":\"Fragment 2\",\"opacity\":1,\"showlegend\":true,\"x\":[0.648058],\"y\":[0.543727],\"z\":[0.000199],\"type\":\"scatter3d\"},{\"hoverinfo\":\"text\",\"hovertext\":\"Fragment 2\",\"legendgroup\":\"Fragment 2\",\"line\":{\"color\":\"#33FF57\",\"width\":12.271325204000146},\"mode\":\"lines\",\"name\":\"Fragment 2\",\"opacity\":0.7,\"showlegend\":false,\"x\":[],\"y\":[],\"z\":[],\"type\":\"scatter3d\"},{\"hoverinfo\":\"text\",\"hovertext\":\"Fragment 3\",\"legendgroup\":\"Fragment 3\",\"marker\":{\"color\":\"#3357FF\",\"size\":6.109243748081782},\"mode\":\"markers\",\"name\":\"Fragment 3\",\"opacity\":1,\"showlegend\":true,\"x\":[-4.402752],\"y\":[0.572053],\"z\":[0.000227],\"type\":\"scatter3d\"},{\"hoverinfo\":\"text\",\"hovertext\":\"Fragment 3\",\"legendgroup\":\"Fragment 3\",\"line\":{\"color\":\"#3357FF\",\"width\":12.271325204000146},\"mode\":\"lines\",\"name\":\"Fragment 3\",\"opacity\":0.7,\"showlegend\":false,\"x\":[],\"y\":[],\"z\":[],\"type\":\"scatter3d\"}],                        {\"template\":{\"data\":{\"histogram2dcontour\":[{\"type\":\"histogram2dcontour\",\"colorbar\":{\"outlinewidth\":0,\"ticks\":\"\"},\"colorscale\":[[0.0,\"#0d0887\"],[0.1111111111111111,\"#46039f\"],[0.2222222222222222,\"#7201a8\"],[0.3333333333333333,\"#9c179e\"],[0.4444444444444444,\"#bd3786\"],[0.5555555555555556,\"#d8576b\"],[0.6666666666666666,\"#ed7953\"],[0.7777777777777778,\"#fb9f3a\"],[0.8888888888888888,\"#fdca26\"],[1.0,\"#f0f921\"]]}],\"choropleth\":[{\"type\":\"choropleth\",\"colorbar\":{\"outlinewidth\":0,\"ticks\":\"\"}}],\"histogram2d\":[{\"type\":\"histogram2d\",\"colorbar\":{\"outlinewidth\":0,\"ticks\":\"\"},\"colorscale\":[[0.0,\"#0d0887\"],[0.1111111111111111,\"#46039f\"],[0.2222222222222222,\"#7201a8\"],[0.3333333333333333,\"#9c179e\"],[0.4444444444444444,\"#bd3786\"],[0.5555555555555556,\"#d8576b\"],[0.6666666666666666,\"#ed7953\"],[0.7777777777777778,\"#fb9f3a\"],[0.8888888888888888,\"#fdca26\"],[1.0,\"#f0f921\"]]}],\"heatmap\":[{\"type\":\"heatmap\",\"colorbar\":{\"outlinewidth\":0,\"ticks\":\"\"},\"colorscale\":[[0.0,\"#0d0887\"],[0.1111111111111111,\"#46039f\"],[0.2222222222222222,\"#7201a8\"],[0.3333333333333333,\"#9c179e\"],[0.4444444444444444,\"#bd3786\"],[0.5555555555555556,\"#d8576b\"],[0.6666666666666666,\"#ed7953\"],[0.7777777777777778,\"#fb9f3a\"],[0.8888888888888888,\"#fdca26\"],[1.0,\"#f0f921\"]]}],\"heatmapgl\":[{\"type\":\"heatmapgl\",\"colorbar\":{\"outlinewidth\":0,\"ticks\":\"\"},\"colorscale\":[[0.0,\"#0d0887\"],[0.1111111111111111,\"#46039f\"],[0.2222222222222222,\"#7201a8\"],[0.3333333333333333,\"#9c179e\"],[0.4444444444444444,\"#bd3786\"],[0.5555555555555556,\"#d8576b\"],[0.6666666666666666,\"#ed7953\"],[0.7777777777777778,\"#fb9f3a\"],[0.8888888888888888,\"#fdca26\"],[1.0,\"#f0f921\"]]}],\"contourcarpet\":[{\"type\":\"contourcarpet\",\"colorbar\":{\"outlinewidth\":0,\"ticks\":\"\"}}],\"contour\":[{\"type\":\"contour\",\"colorbar\":{\"outlinewidth\":0,\"ticks\":\"\"},\"colorscale\":[[0.0,\"#0d0887\"],[0.1111111111111111,\"#46039f\"],[0.2222222222222222,\"#7201a8\"],[0.3333333333333333,\"#9c179e\"],[0.4444444444444444,\"#bd3786\"],[0.5555555555555556,\"#d8576b\"],[0.6666666666666666,\"#ed7953\"],[0.7777777777777778,\"#fb9f3a\"],[0.8888888888888888,\"#fdca26\"],[1.0,\"#f0f921\"]]}],\"surface\":[{\"type\":\"surface\",\"colorbar\":{\"outlinewidth\":0,\"ticks\":\"\"},\"colorscale\":[[0.0,\"#0d0887\"],[0.1111111111111111,\"#46039f\"],[0.2222222222222222,\"#7201a8\"],[0.3333333333333333,\"#9c179e\"],[0.4444444444444444,\"#bd3786\"],[0.5555555555555556,\"#d8576b\"],[0.6666666666666666,\"#ed7953\"],[0.7777777777777778,\"#fb9f3a\"],[0.8888888888888888,\"#fdca26\"],[1.0,\"#f0f921\"]]}],\"mesh3d\":[{\"type\":\"mesh3d\",\"colorbar\":{\"outlinewidth\":0,\"ticks\":\"\"}}],\"scatter\":[{\"fillpattern\":{\"fillmode\":\"overlay\",\"size\":10,\"solidity\":0.2},\"type\":\"scatter\"}],\"parcoords\":[{\"type\":\"parcoords\",\"line\":{\"colorbar\":{\"outlinewidth\":0,\"ticks\":\"\"}}}],\"scatterpolargl\":[{\"type\":\"scatterpolargl\",\"marker\":{\"colorbar\":{\"outlinewidth\":0,\"ticks\":\"\"}}}],\"bar\":[{\"error_x\":{\"color\":\"#2a3f5f\"},\"error_y\":{\"color\":\"#2a3f5f\"},\"marker\":{\"line\":{\"color\":\"#E5ECF6\",\"width\":0.5},\"pattern\":{\"fillmode\":\"overlay\",\"size\":10,\"solidity\":0.2}},\"type\":\"bar\"}],\"scattergeo\":[{\"type\":\"scattergeo\",\"marker\":{\"colorbar\":{\"outlinewidth\":0,\"ticks\":\"\"}}}],\"scatterpolar\":[{\"type\":\"scatterpolar\",\"marker\":{\"colorbar\":{\"outlinewidth\":0,\"ticks\":\"\"}}}],\"histogram\":[{\"marker\":{\"pattern\":{\"fillmode\":\"overlay\",\"size\":10,\"solidity\":0.2}},\"type\":\"histogram\"}],\"scattergl\":[{\"type\":\"scattergl\",\"marker\":{\"colorbar\":{\"outlinewidth\":0,\"ticks\":\"\"}}}],\"scatter3d\":[{\"type\":\"scatter3d\",\"line\":{\"colorbar\":{\"outlinewidth\":0,\"ticks\":\"\"}},\"marker\":{\"colorbar\":{\"outlinewidth\":0,\"ticks\":\"\"}}}],\"scattermapbox\":[{\"type\":\"scattermapbox\",\"marker\":{\"colorbar\":{\"outlinewidth\":0,\"ticks\":\"\"}}}],\"scatterternary\":[{\"type\":\"scatterternary\",\"marker\":{\"colorbar\":{\"outlinewidth\":0,\"ticks\":\"\"}}}],\"scattercarpet\":[{\"type\":\"scattercarpet\",\"marker\":{\"colorbar\":{\"outlinewidth\":0,\"ticks\":\"\"}}}],\"carpet\":[{\"aaxis\":{\"endlinecolor\":\"#2a3f5f\",\"gridcolor\":\"white\",\"linecolor\":\"white\",\"minorgridcolor\":\"white\",\"startlinecolor\":\"#2a3f5f\"},\"baxis\":{\"endlinecolor\":\"#2a3f5f\",\"gridcolor\":\"white\",\"linecolor\":\"white\",\"minorgridcolor\":\"white\",\"startlinecolor\":\"#2a3f5f\"},\"type\":\"carpet\"}],\"table\":[{\"cells\":{\"fill\":{\"color\":\"#EBF0F8\"},\"line\":{\"color\":\"white\"}},\"header\":{\"fill\":{\"color\":\"#C8D4E3\"},\"line\":{\"color\":\"white\"}},\"type\":\"table\"}],\"barpolar\":[{\"marker\":{\"line\":{\"color\":\"#E5ECF6\",\"width\":0.5},\"pattern\":{\"fillmode\":\"overlay\",\"size\":10,\"solidity\":0.2}},\"type\":\"barpolar\"}],\"pie\":[{\"automargin\":true,\"type\":\"pie\"}]},\"layout\":{\"autotypenumbers\":\"strict\",\"colorway\":[\"#636efa\",\"#EF553B\",\"#00cc96\",\"#ab63fa\",\"#FFA15A\",\"#19d3f3\",\"#FF6692\",\"#B6E880\",\"#FF97FF\",\"#FECB52\"],\"font\":{\"color\":\"#2a3f5f\"},\"hovermode\":\"closest\",\"hoverlabel\":{\"align\":\"left\"},\"paper_bgcolor\":\"white\",\"plot_bgcolor\":\"#E5ECF6\",\"polar\":{\"bgcolor\":\"#E5ECF6\",\"angularaxis\":{\"gridcolor\":\"white\",\"linecolor\":\"white\",\"ticks\":\"\"},\"radialaxis\":{\"gridcolor\":\"white\",\"linecolor\":\"white\",\"ticks\":\"\"}},\"ternary\":{\"bgcolor\":\"#E5ECF6\",\"aaxis\":{\"gridcolor\":\"white\",\"linecolor\":\"white\",\"ticks\":\"\"},\"baxis\":{\"gridcolor\":\"white\",\"linecolor\":\"white\",\"ticks\":\"\"},\"caxis\":{\"gridcolor\":\"white\",\"linecolor\":\"white\",\"ticks\":\"\"}},\"coloraxis\":{\"colorbar\":{\"outlinewidth\":0,\"ticks\":\"\"}},\"colorscale\":{\"sequential\":[[0.0,\"#0d0887\"],[0.1111111111111111,\"#46039f\"],[0.2222222222222222,\"#7201a8\"],[0.3333333333333333,\"#9c179e\"],[0.4444444444444444,\"#bd3786\"],[0.5555555555555556,\"#d8576b\"],[0.6666666666666666,\"#ed7953\"],[0.7777777777777778,\"#fb9f3a\"],[0.8888888888888888,\"#fdca26\"],[1.0,\"#f0f921\"]],\"sequentialminus\":[[0.0,\"#0d0887\"],[0.1111111111111111,\"#46039f\"],[0.2222222222222222,\"#7201a8\"],[0.3333333333333333,\"#9c179e\"],[0.4444444444444444,\"#bd3786\"],[0.5555555555555556,\"#d8576b\"],[0.6666666666666666,\"#ed7953\"],[0.7777777777777778,\"#fb9f3a\"],[0.8888888888888888,\"#fdca26\"],[1.0,\"#f0f921\"]],\"diverging\":[[0,\"#8e0152\"],[0.1,\"#c51b7d\"],[0.2,\"#de77ae\"],[0.3,\"#f1b6da\"],[0.4,\"#fde0ef\"],[0.5,\"#f7f7f7\"],[0.6,\"#e6f5d0\"],[0.7,\"#b8e186\"],[0.8,\"#7fbc41\"],[0.9,\"#4d9221\"],[1,\"#276419\"]]},\"xaxis\":{\"gridcolor\":\"white\",\"linecolor\":\"white\",\"ticks\":\"\",\"title\":{\"standoff\":15},\"zerolinecolor\":\"white\",\"automargin\":true,\"zerolinewidth\":2},\"yaxis\":{\"gridcolor\":\"white\",\"linecolor\":\"white\",\"ticks\":\"\",\"title\":{\"standoff\":15},\"zerolinecolor\":\"white\",\"automargin\":true,\"zerolinewidth\":2},\"scene\":{\"xaxis\":{\"backgroundcolor\":\"#E5ECF6\",\"gridcolor\":\"white\",\"linecolor\":\"white\",\"showbackground\":true,\"ticks\":\"\",\"zerolinecolor\":\"white\",\"gridwidth\":2},\"yaxis\":{\"backgroundcolor\":\"#E5ECF6\",\"gridcolor\":\"white\",\"linecolor\":\"white\",\"showbackground\":true,\"ticks\":\"\",\"zerolinecolor\":\"white\",\"gridwidth\":2},\"zaxis\":{\"backgroundcolor\":\"#E5ECF6\",\"gridcolor\":\"white\",\"linecolor\":\"white\",\"showbackground\":true,\"ticks\":\"\",\"zerolinecolor\":\"white\",\"gridwidth\":2}},\"shapedefaults\":{\"line\":{\"color\":\"#2a3f5f\"}},\"annotationdefaults\":{\"arrowcolor\":\"#2a3f5f\",\"arrowhead\":0,\"arrowwidth\":1},\"geo\":{\"bgcolor\":\"white\",\"landcolor\":\"#E5ECF6\",\"subunitcolor\":\"white\",\"showland\":true,\"showlakes\":true,\"lakecolor\":\"white\"},\"title\":{\"x\":0.05},\"mapbox\":{\"style\":\"light\"}}},\"scene\":{\"xaxis\":{\"range\":[-4.502752,1.244979],\"visible\":false},\"yaxis\":{\"range\":[-0.517415,1.545212],\"visible\":false},\"zaxis\":{\"range\":[-0.6746489999999999,1.189978],\"visible\":false},\"camera\":{\"projection\":{\"type\":\"orthographic\"}},\"aspectratio\":{\"x\":1,\"y\":1,\"z\":1},\"aspectmode\":\"data\"},\"width\":800,\"height\":600,\"updatemenus\":[{\"buttons\":[{\"args\":[null,{\"frame\":{\"duration\":30,\"redraw\":true},\"fromcurrent\":true,\"transition\":{\"duration\":10,\"easing\":\"quadratic-in-out\"}}],\"label\":\"Play\",\"method\":\"animate\"},{\"args\":[[null],{\"frame\":{\"duration\":0,\"redraw\":true},\"mode\":\"immediate\",\"transition\":{\"duration\":0}}],\"label\":\"Pause\",\"method\":\"animate\"}],\"direction\":\"left\",\"pad\":{\"r\":10,\"t\":87},\"showactive\":false,\"type\":\"buttons\",\"x\":0.1,\"xanchor\":\"right\",\"y\":0,\"yanchor\":\"top\"}],\"sliders\":[{\"active\":0,\"currentvalue\":{\"font\":{\"size\":20},\"prefix\":\"Frame: \",\"visible\":true,\"xanchor\":\"right\"},\"len\":0.9,\"pad\":{\"b\":10,\"t\":50},\"steps\":[{\"args\":[[\"0\"],{\"frame\":{\"duration\":300,\"redraw\":true},\"mode\":\"immediate\",\"transition\":{\"duration\":300}}],\"label\":\"0\",\"method\":\"animate\"},{\"args\":[[\"1\"],{\"frame\":{\"duration\":300,\"redraw\":true},\"mode\":\"immediate\",\"transition\":{\"duration\":300}}],\"label\":\"1\",\"method\":\"animate\"},{\"args\":[[\"2\"],{\"frame\":{\"duration\":300,\"redraw\":true},\"mode\":\"immediate\",\"transition\":{\"duration\":300}}],\"label\":\"2\",\"method\":\"animate\"},{\"args\":[[\"3\"],{\"frame\":{\"duration\":300,\"redraw\":true},\"mode\":\"immediate\",\"transition\":{\"duration\":300}}],\"label\":\"3\",\"method\":\"animate\"},{\"args\":[[\"4\"],{\"frame\":{\"duration\":300,\"redraw\":true},\"mode\":\"immediate\",\"transition\":{\"duration\":300}}],\"label\":\"4\",\"method\":\"animate\"},{\"args\":[[\"5\"],{\"frame\":{\"duration\":300,\"redraw\":true},\"mode\":\"immediate\",\"transition\":{\"duration\":300}}],\"label\":\"5\",\"method\":\"animate\"},{\"args\":[[\"6\"],{\"frame\":{\"duration\":300,\"redraw\":true},\"mode\":\"immediate\",\"transition\":{\"duration\":300}}],\"label\":\"6\",\"method\":\"animate\"},{\"args\":[[\"7\"],{\"frame\":{\"duration\":300,\"redraw\":true},\"mode\":\"immediate\",\"transition\":{\"duration\":300}}],\"label\":\"7\",\"method\":\"animate\"},{\"args\":[[\"8\"],{\"frame\":{\"duration\":300,\"redraw\":true},\"mode\":\"immediate\",\"transition\":{\"duration\":300}}],\"label\":\"8\",\"method\":\"animate\"},{\"args\":[[\"9\"],{\"frame\":{\"duration\":300,\"redraw\":true},\"mode\":\"immediate\",\"transition\":{\"duration\":300}}],\"label\":\"9\",\"method\":\"animate\"},{\"args\":[[\"10\"],{\"frame\":{\"duration\":300,\"redraw\":true},\"mode\":\"immediate\",\"transition\":{\"duration\":300}}],\"label\":\"10\",\"method\":\"animate\"},{\"args\":[[\"11\"],{\"frame\":{\"duration\":300,\"redraw\":true},\"mode\":\"immediate\",\"transition\":{\"duration\":300}}],\"label\":\"11\",\"method\":\"animate\"},{\"args\":[[\"12\"],{\"frame\":{\"duration\":300,\"redraw\":true},\"mode\":\"immediate\",\"transition\":{\"duration\":300}}],\"label\":\"12\",\"method\":\"animate\"},{\"args\":[[\"13\"],{\"frame\":{\"duration\":300,\"redraw\":true},\"mode\":\"immediate\",\"transition\":{\"duration\":300}}],\"label\":\"13\",\"method\":\"animate\"},{\"args\":[[\"14\"],{\"frame\":{\"duration\":300,\"redraw\":true},\"mode\":\"immediate\",\"transition\":{\"duration\":300}}],\"label\":\"14\",\"method\":\"animate\"},{\"args\":[[\"15\"],{\"frame\":{\"duration\":300,\"redraw\":true},\"mode\":\"immediate\",\"transition\":{\"duration\":300}}],\"label\":\"15\",\"method\":\"animate\"},{\"args\":[[\"16\"],{\"frame\":{\"duration\":300,\"redraw\":true},\"mode\":\"immediate\",\"transition\":{\"duration\":300}}],\"label\":\"16\",\"method\":\"animate\"},{\"args\":[[\"17\"],{\"frame\":{\"duration\":300,\"redraw\":true},\"mode\":\"immediate\",\"transition\":{\"duration\":300}}],\"label\":\"17\",\"method\":\"animate\"},{\"args\":[[\"18\"],{\"frame\":{\"duration\":300,\"redraw\":true},\"mode\":\"immediate\",\"transition\":{\"duration\":300}}],\"label\":\"18\",\"method\":\"animate\"},{\"args\":[[\"19\"],{\"frame\":{\"duration\":300,\"redraw\":true},\"mode\":\"immediate\",\"transition\":{\"duration\":300}}],\"label\":\"19\",\"method\":\"animate\"}],\"transition\":{\"duration\":300,\"easing\":\"cubic-in-out\"},\"x\":0.1,\"xanchor\":\"left\",\"y\":0,\"yanchor\":\"top\"}],\"showlegend\":true},                        {\"responsive\": true}                    ).then(function(){\n",
       "                            Plotly.addFrames('dc24f87a-5305-4d5a-857b-1be0ff6eb55e', [{\"data\":[{\"hoverinfo\":\"text\",\"hovertext\":\"Fragment 1\",\"legendgroup\":\"Fragment 1\",\"marker\":{\"color\":\"#FF5733\",\"size\":6.109243748081782},\"mode\":\"markers\",\"name\":\"Fragment 1\",\"opacity\":1,\"showlegend\":true,\"x\":[-1.277168,-1.652166,-1.652215,-1.651698],\"y\":[0.545365,0.593222,-0.359651,1.403205],\"z\":[-6.3e-05,1.017641,-0.467952,-0.550042],\"type\":\"scatter3d\"},{\"hoverinfo\":\"text\",\"hovertext\":\"Fragment 1\",\"legendgroup\":\"Fragment 1\",\"line\":{\"color\":\"#FF5733\",\"width\":12.271325204000146},\"mode\":\"lines\",\"name\":\"Fragment 1\",\"opacity\":0.7,\"showlegend\":false,\"x\":[-1.277168,-1.652166,null,-1.277168,-1.652215,null,-1.277168,-1.651698,null],\"y\":[0.545365,0.593222,null,0.545365,-0.359651,null,0.545365,1.403205,null],\"z\":[-6.3e-05,1.017641,null,-6.3e-05,-0.467952,null,-6.3e-05,-0.550042,null],\"type\":\"scatter3d\"},{\"hoverinfo\":\"text\",\"hovertext\":\"Fragment 2\",\"legendgroup\":\"Fragment 2\",\"marker\":{\"color\":\"#33FF57\",\"size\":6.109243748081782},\"mode\":\"markers\",\"name\":\"Fragment 2\",\"opacity\":1,\"showlegend\":true,\"x\":[0.648058],\"y\":[0.543727],\"z\":[0.000199],\"type\":\"scatter3d\"},{\"hoverinfo\":\"text\",\"hovertext\":\"Fragment 2\",\"legendgroup\":\"Fragment 2\",\"line\":{\"color\":\"#33FF57\",\"width\":12.271325204000146},\"mode\":\"lines\",\"name\":\"Fragment 2\",\"opacity\":0.7,\"showlegend\":false,\"x\":[],\"y\":[],\"z\":[],\"type\":\"scatter3d\"},{\"hoverinfo\":\"text\",\"hovertext\":\"Fragment 3\",\"legendgroup\":\"Fragment 3\",\"marker\":{\"color\":\"#3357FF\",\"size\":6.109243748081782},\"mode\":\"markers\",\"name\":\"Fragment 3\",\"opacity\":1,\"showlegend\":true,\"x\":[-4.402752],\"y\":[0.572053],\"z\":[0.000227],\"type\":\"scatter3d\"},{\"hoverinfo\":\"text\",\"hovertext\":\"Fragment 3\",\"legendgroup\":\"Fragment 3\",\"line\":{\"color\":\"#3357FF\",\"width\":12.271325204000146},\"mode\":\"lines\",\"name\":\"Fragment 3\",\"opacity\":0.7,\"showlegend\":false,\"x\":[],\"y\":[],\"z\":[],\"type\":\"scatter3d\"}],\"name\":\"0\"},{\"data\":[{\"hoverinfo\":\"text\",\"hovertext\":\"Fragment 1\",\"legendgroup\":\"Fragment 1\",\"marker\":{\"color\":\"#FF5733\",\"size\":6.109243748081782},\"mode\":\"markers\",\"name\":\"Fragment 1\",\"opacity\":1,\"showlegend\":true,\"x\":[-1.294919,-1.63698,-1.637355,-1.633737],\"y\":[0.542959,0.598072,-0.36923,1.408958],\"z\":[0.001299,1.030309,-0.477817,-0.553873],\"type\":\"scatter3d\"},{\"hoverinfo\":\"text\",\"hovertext\":\"Fragment 1\",\"legendgroup\":\"Fragment 1\",\"line\":{\"color\":\"#FF5733\",\"width\":12.271325204000146},\"mode\":\"lines\",\"name\":\"Fragment 1\",\"opacity\":0.7,\"showlegend\":false,\"x\":[-1.294919,-1.63698,null,-1.294919,-1.637355,null,-1.294919,-1.633737,null],\"y\":[0.542959,0.598072,null,0.542959,-0.36923,null,0.542959,1.408958,null],\"z\":[0.001299,1.030309,null,0.001299,-0.477817,null,0.001299,-0.553873,null],\"type\":\"scatter3d\"},{\"hoverinfo\":\"text\",\"hovertext\":\"Fragment 2\",\"legendgroup\":\"Fragment 2\",\"marker\":{\"color\":\"#33FF57\",\"size\":6.109243748081782},\"mode\":\"markers\",\"name\":\"Fragment 2\",\"opacity\":1,\"showlegend\":true,\"x\":[0.694616],\"y\":[0.543808],\"z\":[-0.000438],\"type\":\"scatter3d\"},{\"hoverinfo\":\"text\",\"hovertext\":\"Fragment 2\",\"legendgroup\":\"Fragment 2\",\"line\":{\"color\":\"#33FF57\",\"width\":12.271325204000146},\"mode\":\"lines\",\"name\":\"Fragment 2\",\"opacity\":0.7,\"showlegend\":false,\"x\":[],\"y\":[],\"z\":[],\"type\":\"scatter3d\"},{\"hoverinfo\":\"text\",\"hovertext\":\"Fragment 3\",\"legendgroup\":\"Fragment 3\",\"marker\":{\"color\":\"#3357FF\",\"size\":6.109243748081782},\"mode\":\"markers\",\"name\":\"Fragment 3\",\"opacity\":1,\"showlegend\":true,\"x\":[-4.352783],\"y\":[0.57077],\"z\":[0.000338],\"type\":\"scatter3d\"},{\"hoverinfo\":\"text\",\"hovertext\":\"Fragment 3\",\"legendgroup\":\"Fragment 3\",\"line\":{\"color\":\"#3357FF\",\"width\":12.271325204000146},\"mode\":\"lines\",\"name\":\"Fragment 3\",\"opacity\":0.7,\"showlegend\":false,\"x\":[],\"y\":[],\"z\":[],\"type\":\"scatter3d\"}],\"name\":\"1\"},{\"data\":[{\"hoverinfo\":\"text\",\"hovertext\":\"Fragment 1\",\"legendgroup\":\"Fragment 1\",\"marker\":{\"color\":\"#FF5733\",\"size\":6.109243748081782},\"mode\":\"markers\",\"name\":\"Fragment 1\",\"opacity\":1,\"showlegend\":true,\"x\":[-1.315835,-1.623462,-1.624161,-1.618359],\"y\":[0.540982,0.601663,-0.378494,1.414529],\"z\":[0.00243,1.042079,-0.486125,-0.557551],\"type\":\"scatter3d\"},{\"hoverinfo\":\"text\",\"hovertext\":\"Fragment 1\",\"legendgroup\":\"Fragment 1\",\"line\":{\"color\":\"#FF5733\",\"width\":12.271325204000146},\"mode\":\"lines\",\"name\":\"Fragment 1\",\"opacity\":0.7,\"showlegend\":false,\"x\":[-1.315835,-1.623462,null,-1.315835,-1.624161,null,-1.315835,-1.618359,null],\"y\":[0.540982,0.601663,null,0.540982,-0.378494,null,0.540982,1.414529,null],\"z\":[0.00243,1.042079,null,0.00243,-0.486125,null,0.00243,-0.557551,null],\"type\":\"scatter3d\"},{\"hoverinfo\":\"text\",\"hovertext\":\"Fragment 2\",\"legendgroup\":\"Fragment 2\",\"marker\":{\"color\":\"#33FF57\",\"size\":6.109243748081782},\"mode\":\"markers\",\"name\":\"Fragment 2\",\"opacity\":1,\"showlegend\":true,\"x\":[0.737905],\"y\":[0.544117],\"z\":[-0.001198],\"type\":\"scatter3d\"},{\"hoverinfo\":\"text\",\"hovertext\":\"Fragment 2\",\"legendgroup\":\"Fragment 2\",\"line\":{\"color\":\"#33FF57\",\"width\":12.271325204000146},\"mode\":\"lines\",\"name\":\"Fragment 2\",\"opacity\":0.7,\"showlegend\":false,\"x\":[],\"y\":[],\"z\":[],\"type\":\"scatter3d\"},{\"hoverinfo\":\"text\",\"hovertext\":\"Fragment 3\",\"legendgroup\":\"Fragment 3\",\"marker\":{\"color\":\"#3357FF\",\"size\":6.109243748081782},\"mode\":\"markers\",\"name\":\"Fragment 3\",\"opacity\":1,\"showlegend\":true,\"x\":[-4.306244],\"y\":[0.570083],\"z\":[9.2e-05],\"type\":\"scatter3d\"},{\"hoverinfo\":\"text\",\"hovertext\":\"Fragment 3\",\"legendgroup\":\"Fragment 3\",\"line\":{\"color\":\"#3357FF\",\"width\":12.271325204000146},\"mode\":\"lines\",\"name\":\"Fragment 3\",\"opacity\":0.7,\"showlegend\":false,\"x\":[],\"y\":[],\"z\":[],\"type\":\"scatter3d\"}],\"name\":\"2\"},{\"data\":[{\"hoverinfo\":\"text\",\"hovertext\":\"Fragment 1\",\"legendgroup\":\"Fragment 1\",\"marker\":{\"color\":\"#FF5733\",\"size\":6.109243748081782},\"mode\":\"markers\",\"name\":\"Fragment 1\",\"opacity\":1,\"showlegend\":true,\"x\":[-1.339677,-1.611638,-1.612659,-1.60542],\"y\":[0.539417,0.604179,-0.387212,1.419807],\"z\":[0.003342,1.052782,-0.492968,-0.561005],\"type\":\"scatter3d\"},{\"hoverinfo\":\"text\",\"hovertext\":\"Fragment 1\",\"legendgroup\":\"Fragment 1\",\"line\":{\"color\":\"#FF5733\",\"width\":12.271325204000146},\"mode\":\"lines\",\"name\":\"Fragment 1\",\"opacity\":0.7,\"showlegend\":false,\"x\":[-1.339677,-1.611638,null,-1.339677,-1.612659,null,-1.339677,-1.60542,null],\"y\":[0.539417,0.604179,null,0.539417,-0.387212,null,0.539417,1.419807,null],\"z\":[0.003342,1.052782,null,0.003342,-0.492968,null,0.003342,-0.561005,null],\"type\":\"scatter3d\"},{\"hoverinfo\":\"text\",\"hovertext\":\"Fragment 2\",\"legendgroup\":\"Fragment 2\",\"marker\":{\"color\":\"#33FF57\",\"size\":6.109243748081782},\"mode\":\"markers\",\"name\":\"Fragment 2\",\"opacity\":1,\"showlegend\":true,\"x\":[0.778164],\"y\":[0.54454],\"z\":[-0.002007],\"type\":\"scatter3d\"},{\"hoverinfo\":\"text\",\"hovertext\":\"Fragment 2\",\"legendgroup\":\"Fragment 2\",\"line\":{\"color\":\"#33FF57\",\"width\":12.271325204000146},\"mode\":\"lines\",\"name\":\"Fragment 2\",\"opacity\":0.7,\"showlegend\":false,\"x\":[],\"y\":[],\"z\":[],\"type\":\"scatter3d\"},{\"hoverinfo\":\"text\",\"hovertext\":\"Fragment 3\",\"legendgroup\":\"Fragment 3\",\"marker\":{\"color\":\"#3357FF\",\"size\":6.109243748081782},\"mode\":\"markers\",\"name\":\"Fragment 3\",\"opacity\":1,\"showlegend\":true,\"x\":[-4.262904],\"y\":[0.569876],\"z\":[-0.000429],\"type\":\"scatter3d\"},{\"hoverinfo\":\"text\",\"hovertext\":\"Fragment 3\",\"legendgroup\":\"Fragment 3\",\"line\":{\"color\":\"#3357FF\",\"width\":12.271325204000146},\"mode\":\"lines\",\"name\":\"Fragment 3\",\"opacity\":0.7,\"showlegend\":false,\"x\":[],\"y\":[],\"z\":[],\"type\":\"scatter3d\"}],\"name\":\"3\"},{\"data\":[{\"hoverinfo\":\"text\",\"hovertext\":\"Fragment 1\",\"legendgroup\":\"Fragment 1\",\"marker\":{\"color\":\"#FF5733\",\"size\":6.109243748081782},\"mode\":\"markers\",\"name\":\"Fragment 1\",\"opacity\":1,\"showlegend\":true,\"x\":[-1.366581,-1.601896,-1.603235,-1.595159],\"y\":[0.538239,0.605824,-0.395175,1.42469],\"z\":[0.004055,1.062287,-0.498473,-0.564166],\"type\":\"scatter3d\"},{\"hoverinfo\":\"text\",\"hovertext\":\"Fragment 1\",\"legendgroup\":\"Fragment 1\",\"line\":{\"color\":\"#FF5733\",\"width\":12.271325204000146},\"mode\":\"lines\",\"name\":\"Fragment 1\",\"opacity\":0.7,\"showlegend\":false,\"x\":[-1.366581,-1.601896,null,-1.366581,-1.603235,null,-1.366581,-1.595159,null],\"y\":[0.538239,0.605824,null,0.538239,-0.395175,null,0.538239,1.42469,null],\"z\":[0.004055,1.062287,null,0.004055,-0.498473,null,0.004055,-0.564166,null],\"type\":\"scatter3d\"},{\"hoverinfo\":\"text\",\"hovertext\":\"Fragment 2\",\"legendgroup\":\"Fragment 2\",\"marker\":{\"color\":\"#33FF57\",\"size\":6.109243748081782},\"mode\":\"markers\",\"name\":\"Fragment 2\",\"opacity\":1,\"showlegend\":true,\"x\":[0.815256],\"y\":[0.544987],\"z\":[-0.002802],\"type\":\"scatter3d\"},{\"hoverinfo\":\"text\",\"hovertext\":\"Fragment 2\",\"legendgroup\":\"Fragment 2\",\"line\":{\"color\":\"#33FF57\",\"width\":12.271325204000146},\"mode\":\"lines\",\"name\":\"Fragment 2\",\"opacity\":0.7,\"showlegend\":false,\"x\":[],\"y\":[],\"z\":[],\"type\":\"scatter3d\"},{\"hoverinfo\":\"text\",\"hovertext\":\"Fragment 3\",\"legendgroup\":\"Fragment 3\",\"marker\":{\"color\":\"#3357FF\",\"size\":6.109243748081782},\"mode\":\"markers\",\"name\":\"Fragment 3\",\"opacity\":1,\"showlegend\":true,\"x\":[-4.22291],\"y\":[0.570016],\"z\":[-0.001135],\"type\":\"scatter3d\"},{\"hoverinfo\":\"text\",\"hovertext\":\"Fragment 3\",\"legendgroup\":\"Fragment 3\",\"line\":{\"color\":\"#3357FF\",\"width\":12.271325204000146},\"mode\":\"lines\",\"name\":\"Fragment 3\",\"opacity\":0.7,\"showlegend\":false,\"x\":[],\"y\":[],\"z\":[],\"type\":\"scatter3d\"}],\"name\":\"4\"},{\"data\":[{\"hoverinfo\":\"text\",\"hovertext\":\"Fragment 1\",\"legendgroup\":\"Fragment 1\",\"marker\":{\"color\":\"#FF5733\",\"size\":6.109243748081782},\"mode\":\"markers\",\"name\":\"Fragment 1\",\"opacity\":1,\"showlegend\":true,\"x\":[-1.396921,-1.594843,-1.596495,-1.588047],\"y\":[0.53742,0.606819,-0.402193,1.42909],\"z\":[0.004595,1.070495,-0.502783,-0.566973],\"type\":\"scatter3d\"},{\"hoverinfo\":\"text\",\"hovertext\":\"Fragment 1\",\"legendgroup\":\"Fragment 1\",\"line\":{\"color\":\"#FF5733\",\"width\":12.271325204000146},\"mode\":\"lines\",\"name\":\"Fragment 1\",\"opacity\":0.7,\"showlegend\":false,\"x\":[-1.396921,-1.594843,null,-1.396921,-1.596495,null,-1.396921,-1.588047,null],\"y\":[0.53742,0.606819,null,0.53742,-0.402193,null,0.53742,1.42909,null],\"z\":[0.004595,1.070495,null,0.004595,-0.502783,null,0.004595,-0.566973,null],\"type\":\"scatter3d\"},{\"hoverinfo\":\"text\",\"hovertext\":\"Fragment 2\",\"legendgroup\":\"Fragment 2\",\"marker\":{\"color\":\"#33FF57\",\"size\":6.109243748081782},\"mode\":\"markers\",\"name\":\"Fragment 2\",\"opacity\":1,\"showlegend\":true,\"x\":[0.848807],\"y\":[0.545389],\"z\":[-0.003529],\"type\":\"scatter3d\"},{\"hoverinfo\":\"text\",\"hovertext\":\"Fragment 2\",\"legendgroup\":\"Fragment 2\",\"line\":{\"color\":\"#33FF57\",\"width\":12.271325204000146},\"mode\":\"lines\",\"name\":\"Fragment 2\",\"opacity\":0.7,\"showlegend\":false,\"x\":[],\"y\":[],\"z\":[],\"type\":\"scatter3d\"},{\"hoverinfo\":\"text\",\"hovertext\":\"Fragment 3\",\"legendgroup\":\"Fragment 3\",\"marker\":{\"color\":\"#3357FF\",\"size\":6.109243748081782},\"mode\":\"markers\",\"name\":\"Fragment 3\",\"opacity\":1,\"showlegend\":true,\"x\":[-4.186639],\"y\":[0.570383],\"z\":[-0.00194],\"type\":\"scatter3d\"},{\"hoverinfo\":\"text\",\"hovertext\":\"Fragment 3\",\"legendgroup\":\"Fragment 3\",\"line\":{\"color\":\"#3357FF\",\"width\":12.271325204000146},\"mode\":\"lines\",\"name\":\"Fragment 3\",\"opacity\":0.7,\"showlegend\":false,\"x\":[],\"y\":[],\"z\":[],\"type\":\"scatter3d\"}],\"name\":\"5\"},{\"data\":[{\"hoverinfo\":\"text\",\"hovertext\":\"Fragment 1\",\"legendgroup\":\"Fragment 1\",\"marker\":{\"color\":\"#FF5733\",\"size\":6.109243748081782},\"mode\":\"markers\",\"name\":\"Fragment 1\",\"opacity\":1,\"showlegend\":true,\"x\":[-1.431179,-1.591171,-1.59313,-1.584653],\"y\":[0.536936,0.607382,-0.408099,1.432937],\"z\":[0.004988,1.077329,-0.506053,-0.569371],\"type\":\"scatter3d\"},{\"hoverinfo\":\"text\",\"hovertext\":\"Fragment 1\",\"legendgroup\":\"Fragment 1\",\"line\":{\"color\":\"#FF5733\",\"width\":12.271325204000146},\"mode\":\"lines\",\"name\":\"Fragment 1\",\"opacity\":0.7,\"showlegend\":false,\"x\":[-1.431179,-1.591171,null,-1.431179,-1.59313,null,-1.431179,-1.584653,null],\"y\":[0.536936,0.607382,null,0.536936,-0.408099,null,0.536936,1.432937,null],\"z\":[0.004988,1.077329,null,0.004988,-0.506053,null,0.004988,-0.569371,null],\"type\":\"scatter3d\"},{\"hoverinfo\":\"text\",\"hovertext\":\"Fragment 2\",\"legendgroup\":\"Fragment 2\",\"marker\":{\"color\":\"#33FF57\",\"size\":6.109243748081782},\"mode\":\"markers\",\"name\":\"Fragment 2\",\"opacity\":1,\"showlegend\":true,\"x\":[0.878349],\"y\":[0.545696],\"z\":[-0.004144],\"type\":\"scatter3d\"},{\"hoverinfo\":\"text\",\"hovertext\":\"Fragment 2\",\"legendgroup\":\"Fragment 2\",\"line\":{\"color\":\"#33FF57\",\"width\":12.271325204000146},\"mode\":\"lines\",\"name\":\"Fragment 2\",\"opacity\":0.7,\"showlegend\":false,\"x\":[],\"y\":[],\"z\":[],\"type\":\"scatter3d\"},{\"hoverinfo\":\"text\",\"hovertext\":\"Fragment 3\",\"legendgroup\":\"Fragment 3\",\"marker\":{\"color\":\"#3357FF\",\"size\":6.109243748081782},\"mode\":\"markers\",\"name\":\"Fragment 3\",\"opacity\":1,\"showlegend\":true,\"x\":[-4.154565],\"y\":[0.570876],\"z\":[-0.002768],\"type\":\"scatter3d\"},{\"hoverinfo\":\"text\",\"hovertext\":\"Fragment 3\",\"legendgroup\":\"Fragment 3\",\"line\":{\"color\":\"#3357FF\",\"width\":12.271325204000146},\"mode\":\"lines\",\"name\":\"Fragment 3\",\"opacity\":0.7,\"showlegend\":false,\"x\":[],\"y\":[],\"z\":[],\"type\":\"scatter3d\"}],\"name\":\"6\"},{\"data\":[{\"hoverinfo\":\"text\",\"hovertext\":\"Fragment 1\",\"legendgroup\":\"Fragment 1\",\"marker\":{\"color\":\"#FF5733\",\"size\":6.109243748081782},\"mode\":\"markers\",\"name\":\"Fragment 1\",\"opacity\":1,\"showlegend\":true,\"x\":[-1.469988,-1.591701,-1.59396,-1.585688],\"y\":[0.536776,0.60772,-0.412748,1.436191],\"z\":[0.005252,1.082741,-0.50843,-0.571323],\"type\":\"scatter3d\"},{\"hoverinfo\":\"text\",\"hovertext\":\"Fragment 1\",\"legendgroup\":\"Fragment 1\",\"line\":{\"color\":\"#FF5733\",\"width\":12.271325204000146},\"mode\":\"lines\",\"name\":\"Fragment 1\",\"opacity\":0.7,\"showlegend\":false,\"x\":[-1.469988,-1.591701,null,-1.469988,-1.59396,null,-1.469988,-1.585688,null],\"y\":[0.536776,0.60772,null,0.536776,-0.412748,null,0.536776,1.436191,null],\"z\":[0.005252,1.082741,null,0.005252,-0.50843,null,0.005252,-0.571323,null],\"type\":\"scatter3d\"},{\"hoverinfo\":\"text\",\"hovertext\":\"Fragment 2\",\"legendgroup\":\"Fragment 2\",\"marker\":{\"color\":\"#33FF57\",\"size\":6.109243748081782},\"mode\":\"markers\",\"name\":\"Fragment 2\",\"opacity\":1,\"showlegend\":true,\"x\":[0.903269],\"y\":[0.545886],\"z\":[-0.004619],\"type\":\"scatter3d\"},{\"hoverinfo\":\"text\",\"hovertext\":\"Fragment 2\",\"legendgroup\":\"Fragment 2\",\"line\":{\"color\":\"#33FF57\",\"width\":12.271325204000146},\"mode\":\"lines\",\"name\":\"Fragment 2\",\"opacity\":0.7,\"showlegend\":false,\"x\":[],\"y\":[],\"z\":[],\"type\":\"scatter3d\"},{\"hoverinfo\":\"text\",\"hovertext\":\"Fragment 3\",\"legendgroup\":\"Fragment 3\",\"marker\":{\"color\":\"#3357FF\",\"size\":6.109243748081782},\"mode\":\"markers\",\"name\":\"Fragment 3\",\"opacity\":1,\"showlegend\":true,\"x\":[-4.127302],\"y\":[0.571417],\"z\":[-0.003556],\"type\":\"scatter3d\"},{\"hoverinfo\":\"text\",\"hovertext\":\"Fragment 3\",\"legendgroup\":\"Fragment 3\",\"line\":{\"color\":\"#3357FF\",\"width\":12.271325204000146},\"mode\":\"lines\",\"name\":\"Fragment 3\",\"opacity\":0.7,\"showlegend\":false,\"x\":[],\"y\":[],\"z\":[],\"type\":\"scatter3d\"}],\"name\":\"7\"},{\"data\":[{\"hoverinfo\":\"text\",\"hovertext\":\"Fragment 1\",\"legendgroup\":\"Fragment 1\",\"marker\":{\"color\":\"#FF5733\",\"size\":6.109243748081782},\"mode\":\"markers\",\"name\":\"Fragment 1\",\"opacity\":1,\"showlegend\":true,\"x\":[-1.515108,-1.598352,-1.600902,-1.592975],\"y\":[0.536986,0.608067,-0.415977,1.438888],\"z\":[0.005389,1.086686,-0.510068,-0.572824],\"type\":\"scatter3d\"},{\"hoverinfo\":\"text\",\"hovertext\":\"Fragment 1\",\"legendgroup\":\"Fragment 1\",\"line\":{\"color\":\"#FF5733\",\"width\":12.271325204000146},\"mode\":\"lines\",\"name\":\"Fragment 1\",\"opacity\":0.7,\"showlegend\":false,\"x\":[-1.515108,-1.598352,null,-1.515108,-1.600902,null,-1.515108,-1.592975,null],\"y\":[0.536986,0.608067,null,0.536986,-0.415977,null,0.536986,1.438888,null],\"z\":[0.005389,1.086686,null,0.005389,-0.510068,null,0.005389,-0.572824,null],\"type\":\"scatter3d\"},{\"hoverinfo\":\"text\",\"hovertext\":\"Fragment 2\",\"legendgroup\":\"Fragment 2\",\"marker\":{\"color\":\"#33FF57\",\"size\":6.109243748081782},\"mode\":\"markers\",\"name\":\"Fragment 2\",\"opacity\":1,\"showlegend\":true,\"x\":[0.921841],\"y\":[0.546011],\"z\":[-0.004956],\"type\":\"scatter3d\"},{\"hoverinfo\":\"text\",\"hovertext\":\"Fragment 2\",\"legendgroup\":\"Fragment 2\",\"line\":{\"color\":\"#33FF57\",\"width\":12.271325204000146},\"mode\":\"lines\",\"name\":\"Fragment 2\",\"opacity\":0.7,\"showlegend\":false,\"x\":[],\"y\":[],\"z\":[],\"type\":\"scatter3d\"},{\"hoverinfo\":\"text\",\"hovertext\":\"Fragment 3\",\"legendgroup\":\"Fragment 3\",\"marker\":{\"color\":\"#3357FF\",\"size\":6.109243748081782},\"mode\":\"markers\",\"name\":\"Fragment 3\",\"opacity\":1,\"showlegend\":true,\"x\":[-4.106575],\"y\":[0.572011],\"z\":[-0.004277],\"type\":\"scatter3d\"},{\"hoverinfo\":\"text\",\"hovertext\":\"Fragment 3\",\"legendgroup\":\"Fragment 3\",\"line\":{\"color\":\"#3357FF\",\"width\":12.271325204000146},\"mode\":\"lines\",\"name\":\"Fragment 3\",\"opacity\":0.7,\"showlegend\":false,\"x\":[],\"y\":[],\"z\":[],\"type\":\"scatter3d\"}],\"name\":\"8\"},{\"data\":[{\"hoverinfo\":\"text\",\"hovertext\":\"Fragment 1\",\"legendgroup\":\"Fragment 1\",\"marker\":{\"color\":\"#FF5733\",\"size\":6.109243748081782},\"mode\":\"markers\",\"name\":\"Fragment 1\",\"opacity\":1,\"showlegend\":true,\"x\":[-1.575642,-1.620356,-1.623188,-1.615665],\"y\":[0.537865,0.608861,-0.417415,1.441328],\"z\":[0.005347,1.089101,-0.511134,-0.573923],\"type\":\"scatter3d\"},{\"hoverinfo\":\"text\",\"hovertext\":\"Fragment 1\",\"legendgroup\":\"Fragment 1\",\"line\":{\"color\":\"#FF5733\",\"width\":12.271325204000146},\"mode\":\"lines\",\"name\":\"Fragment 1\",\"opacity\":0.7,\"showlegend\":false,\"x\":[-1.575642,-1.620356,null,-1.575642,-1.623188,null,-1.575642,-1.615665,null],\"y\":[0.537865,0.608861,null,0.537865,-0.417415,null,0.537865,1.441328,null],\"z\":[0.005347,1.089101,null,0.005347,-0.511134,null,0.005347,-0.573923,null],\"type\":\"scatter3d\"},{\"hoverinfo\":\"text\",\"hovertext\":\"Fragment 2\",\"legendgroup\":\"Fragment 2\",\"marker\":{\"color\":\"#33FF57\",\"size\":6.109243748081782},\"mode\":\"markers\",\"name\":\"Fragment 2\",\"opacity\":1,\"showlegend\":true,\"x\":[0.92501],\"y\":[0.546387],\"z\":[-0.005215],\"type\":\"scatter3d\"},{\"hoverinfo\":\"text\",\"hovertext\":\"Fragment 2\",\"legendgroup\":\"Fragment 2\",\"line\":{\"color\":\"#33FF57\",\"width\":12.271325204000146},\"mode\":\"lines\",\"name\":\"Fragment 2\",\"opacity\":0.7,\"showlegend\":false,\"x\":[],\"y\":[],\"z\":[],\"type\":\"scatter3d\"},{\"hoverinfo\":\"text\",\"hovertext\":\"Fragment 3\",\"legendgroup\":\"Fragment 3\",\"marker\":{\"color\":\"#3357FF\",\"size\":6.109243748081782},\"mode\":\"markers\",\"name\":\"Fragment 3\",\"opacity\":1,\"showlegend\":true,\"x\":[-4.101437],\"y\":[0.572923],\"z\":[-0.004957],\"type\":\"scatter3d\"},{\"hoverinfo\":\"text\",\"hovertext\":\"Fragment 3\",\"legendgroup\":\"Fragment 3\",\"line\":{\"color\":\"#3357FF\",\"width\":12.271325204000146},\"mode\":\"lines\",\"name\":\"Fragment 3\",\"opacity\":0.7,\"showlegend\":false,\"x\":[],\"y\":[],\"z\":[],\"type\":\"scatter3d\"}],\"name\":\"9\"},{\"data\":[{\"hoverinfo\":\"text\",\"hovertext\":\"Fragment 1\",\"legendgroup\":\"Fragment 1\",\"marker\":{\"color\":\"#FF5733\",\"size\":6.109243748081782},\"mode\":\"markers\",\"name\":\"Fragment 1\",\"opacity\":1,\"showlegend\":true,\"x\":[-1.668385,-1.674605,-1.677706,-1.670591],\"y\":[0.539912,0.610691,-0.416533,1.444027],\"z\":[0.005108,1.089978,-0.511735,-0.574649],\"type\":\"scatter3d\"},{\"hoverinfo\":\"text\",\"hovertext\":\"Fragment 1\",\"legendgroup\":\"Fragment 1\",\"line\":{\"color\":\"#FF5733\",\"width\":12.271325204000146},\"mode\":\"lines\",\"name\":\"Fragment 1\",\"opacity\":0.7,\"showlegend\":false,\"x\":[-1.668385,-1.674605,null,-1.668385,-1.677706,null,-1.668385,-1.670591,null],\"y\":[0.539912,0.610691,null,0.539912,-0.416533,null,0.539912,1.444027,null],\"z\":[0.005108,1.089978,null,0.005108,-0.511735,null,0.005108,-0.574649,null],\"type\":\"scatter3d\"},{\"hoverinfo\":\"text\",\"hovertext\":\"Fragment 2\",\"legendgroup\":\"Fragment 2\",\"marker\":{\"color\":\"#33FF57\",\"size\":6.109243748081782},\"mode\":\"markers\",\"name\":\"Fragment 2\",\"opacity\":1,\"showlegend\":true,\"x\":[0.896034],\"y\":[0.547547],\"z\":[-0.005433],\"type\":\"scatter3d\"},{\"hoverinfo\":\"text\",\"hovertext\":\"Fragment 2\",\"legendgroup\":\"Fragment 2\",\"line\":{\"color\":\"#33FF57\",\"width\":12.271325204000146},\"mode\":\"lines\",\"name\":\"Fragment 2\",\"opacity\":0.7,\"showlegend\":false,\"x\":[],\"y\":[],\"z\":[],\"type\":\"scatter3d\"},{\"hoverinfo\":\"text\",\"hovertext\":\"Fragment 3\",\"legendgroup\":\"Fragment 3\",\"marker\":{\"color\":\"#3357FF\",\"size\":6.109243748081782},\"mode\":\"markers\",\"name\":\"Fragment 3\",\"opacity\":1,\"showlegend\":true,\"x\":[-4.128622],\"y\":[0.574623],\"z\":[-0.005598],\"type\":\"scatter3d\"},{\"hoverinfo\":\"text\",\"hovertext\":\"Fragment 3\",\"legendgroup\":\"Fragment 3\",\"line\":{\"color\":\"#3357FF\",\"width\":12.271325204000146},\"mode\":\"lines\",\"name\":\"Fragment 3\",\"opacity\":0.7,\"showlegend\":false,\"x\":[],\"y\":[],\"z\":[],\"type\":\"scatter3d\"}],\"name\":\"10\"},{\"data\":[{\"hoverinfo\":\"text\",\"hovertext\":\"Fragment 1\",\"legendgroup\":\"Fragment 1\",\"marker\":{\"color\":\"#FF5733\",\"size\":6.109243748081782},\"mode\":\"markers\",\"name\":\"Fragment 1\",\"opacity\":1,\"showlegend\":true,\"x\":[-1.750666,-1.718497,-1.721857,-1.715103],\"y\":[0.541334,0.611806,-0.415133,1.445212],\"z\":[0.005081,1.089754,-0.511511,-0.574606],\"type\":\"scatter3d\"},{\"hoverinfo\":\"text\",\"hovertext\":\"Fragment 1\",\"legendgroup\":\"Fragment 1\",\"line\":{\"color\":\"#FF5733\",\"width\":12.271325204000146},\"mode\":\"lines\",\"name\":\"Fragment 1\",\"opacity\":0.7,\"showlegend\":false,\"x\":[-1.750666,-1.718497,null,-1.750666,-1.721857,null,-1.750666,-1.715103,null],\"y\":[0.541334,0.611806,null,0.541334,-0.415133,null,0.541334,1.445212,null],\"z\":[0.005081,1.089754,null,0.005081,-0.511511,null,0.005081,-0.574606,null],\"type\":\"scatter3d\"},{\"hoverinfo\":\"text\",\"hovertext\":\"Fragment 2\",\"legendgroup\":\"Fragment 2\",\"marker\":{\"color\":\"#33FF57\",\"size\":6.109243748081782},\"mode\":\"markers\",\"name\":\"Fragment 2\",\"opacity\":1,\"showlegend\":true,\"x\":[0.87764],\"y\":[0.547728],\"z\":[-0.005221],\"type\":\"scatter3d\"},{\"hoverinfo\":\"text\",\"hovertext\":\"Fragment 2\",\"legendgroup\":\"Fragment 2\",\"line\":{\"color\":\"#33FF57\",\"width\":12.271325204000146},\"mode\":\"lines\",\"name\":\"Fragment 2\",\"opacity\":0.7,\"showlegend\":false,\"x\":[],\"y\":[],\"z\":[],\"type\":\"scatter3d\"},{\"hoverinfo\":\"text\",\"hovertext\":\"Fragment 3\",\"legendgroup\":\"Fragment 3\",\"marker\":{\"color\":\"#3357FF\",\"size\":6.109243748081782},\"mode\":\"markers\",\"name\":\"Fragment 3\",\"opacity\":1,\"showlegend\":true,\"x\":[-4.145399],\"y\":[0.57531],\"z\":[-0.005781],\"type\":\"scatter3d\"},{\"hoverinfo\":\"text\",\"hovertext\":\"Fragment 3\",\"legendgroup\":\"Fragment 3\",\"line\":{\"color\":\"#3357FF\",\"width\":12.271325204000146},\"mode\":\"lines\",\"name\":\"Fragment 3\",\"opacity\":0.7,\"showlegend\":false,\"x\":[],\"y\":[],\"z\":[],\"type\":\"scatter3d\"}],\"name\":\"11\"},{\"data\":[{\"hoverinfo\":\"text\",\"hovertext\":\"Fragment 1\",\"legendgroup\":\"Fragment 1\",\"marker\":{\"color\":\"#FF5733\",\"size\":6.109243748081782},\"mode\":\"markers\",\"name\":\"Fragment 1\",\"opacity\":1,\"showlegend\":true,\"x\":[-1.801257,-1.730856,-1.734462,-1.727985],\"y\":[0.541904,0.611972,-0.413478,1.444681],\"z\":[0.005111,1.088313,-0.510626,-0.573963],\"type\":\"scatter3d\"},{\"hoverinfo\":\"text\",\"hovertext\":\"Fragment 1\",\"legendgroup\":\"Fragment 1\",\"line\":{\"color\":\"#FF5733\",\"width\":12.271325204000146},\"mode\":\"lines\",\"name\":\"Fragment 1\",\"opacity\":0.7,\"showlegend\":false,\"x\":[-1.801257,-1.730856,null,-1.801257,-1.734462,null,-1.801257,-1.727985,null],\"y\":[0.541904,0.611972,null,0.541904,-0.413478,null,0.541904,1.444681,null],\"z\":[0.005111,1.088313,null,0.005111,-0.510626,null,0.005111,-0.573963,null],\"type\":\"scatter3d\"},{\"hoverinfo\":\"text\",\"hovertext\":\"Fragment 2\",\"legendgroup\":\"Fragment 2\",\"marker\":{\"color\":\"#33FF57\",\"size\":6.109243748081782},\"mode\":\"markers\",\"name\":\"Fragment 2\",\"opacity\":1,\"showlegend\":true,\"x\":[0.891108],\"y\":[0.546733],\"z\":[-0.004753],\"type\":\"scatter3d\"},{\"hoverinfo\":\"text\",\"hovertext\":\"Fragment 2\",\"legendgroup\":\"Fragment 2\",\"line\":{\"color\":\"#33FF57\",\"width\":12.271325204000146},\"mode\":\"lines\",\"name\":\"Fragment 2\",\"opacity\":0.7,\"showlegend\":false,\"x\":[],\"y\":[],\"z\":[],\"type\":\"scatter3d\"},{\"hoverinfo\":\"text\",\"hovertext\":\"Fragment 3\",\"legendgroup\":\"Fragment 3\",\"marker\":{\"color\":\"#3357FF\",\"size\":6.109243748081782},\"mode\":\"markers\",\"name\":\"Fragment 3\",\"opacity\":1,\"showlegend\":true,\"x\":[-4.130482],\"y\":[0.574755],\"z\":[-0.005659],\"type\":\"scatter3d\"},{\"hoverinfo\":\"text\",\"hovertext\":\"Fragment 3\",\"legendgroup\":\"Fragment 3\",\"line\":{\"color\":\"#3357FF\",\"width\":12.271325204000146},\"mode\":\"lines\",\"name\":\"Fragment 3\",\"opacity\":0.7,\"showlegend\":false,\"x\":[],\"y\":[],\"z\":[],\"type\":\"scatter3d\"}],\"name\":\"12\"},{\"data\":[{\"hoverinfo\":\"text\",\"hovertext\":\"Fragment 1\",\"legendgroup\":\"Fragment 1\",\"marker\":{\"color\":\"#FF5733\",\"size\":6.109243748081782},\"mode\":\"markers\",\"name\":\"Fragment 1\",\"opacity\":1,\"showlegend\":true,\"x\":[-1.842429,-1.733983,-1.737821,-1.73152],\"y\":[0.542385,0.611902,-0.41086,1.443218],\"z\":[0.005056,1.085552,-0.509193,-0.572876],\"type\":\"scatter3d\"},{\"hoverinfo\":\"text\",\"hovertext\":\"Fragment 1\",\"legendgroup\":\"Fragment 1\",\"line\":{\"color\":\"#FF5733\",\"width\":12.271325204000146},\"mode\":\"lines\",\"name\":\"Fragment 1\",\"opacity\":0.7,\"showlegend\":false,\"x\":[-1.842429,-1.733983,null,-1.842429,-1.737821,null,-1.842429,-1.73152,null],\"y\":[0.542385,0.611902,null,0.542385,-0.41086,null,0.542385,1.443218,null],\"z\":[0.005056,1.085552,null,0.005056,-0.509193,null,0.005056,-0.572876,null],\"type\":\"scatter3d\"},{\"hoverinfo\":\"text\",\"hovertext\":\"Fragment 2\",\"legendgroup\":\"Fragment 2\",\"marker\":{\"color\":\"#33FF57\",\"size\":6.109243748081782},\"mode\":\"markers\",\"name\":\"Fragment 2\",\"opacity\":1,\"showlegend\":true,\"x\":[0.914208],\"y\":[0.545368],\"z\":[-0.004195],\"type\":\"scatter3d\"},{\"hoverinfo\":\"text\",\"hovertext\":\"Fragment 2\",\"legendgroup\":\"Fragment 2\",\"line\":{\"color\":\"#33FF57\",\"width\":12.271325204000146},\"mode\":\"lines\",\"name\":\"Fragment 2\",\"opacity\":0.7,\"showlegend\":false,\"x\":[],\"y\":[],\"z\":[],\"type\":\"scatter3d\"},{\"hoverinfo\":\"text\",\"hovertext\":\"Fragment 3\",\"legendgroup\":\"Fragment 3\",\"marker\":{\"color\":\"#3357FF\",\"size\":6.109243748081782},\"mode\":\"markers\",\"name\":\"Fragment 3\",\"opacity\":1,\"showlegend\":true,\"x\":[-4.106097],\"y\":[0.573715],\"z\":[-0.005369],\"type\":\"scatter3d\"},{\"hoverinfo\":\"text\",\"hovertext\":\"Fragment 3\",\"legendgroup\":\"Fragment 3\",\"line\":{\"color\":\"#3357FF\",\"width\":12.271325204000146},\"mode\":\"lines\",\"name\":\"Fragment 3\",\"opacity\":0.7,\"showlegend\":false,\"x\":[],\"y\":[],\"z\":[],\"type\":\"scatter3d\"}],\"name\":\"13\"},{\"data\":[{\"hoverinfo\":\"text\",\"hovertext\":\"Fragment 1\",\"legendgroup\":\"Fragment 1\",\"marker\":{\"color\":\"#FF5733\",\"size\":6.109243748081782},\"mode\":\"markers\",\"name\":\"Fragment 1\",\"opacity\":1,\"showlegend\":true,\"x\":[-1.878061,-1.731779,-1.735833,-1.729592],\"y\":[0.542888,0.611626,-0.407236,1.440948],\"z\":[0.004907,1.081499,-0.507162,-0.571361],\"type\":\"scatter3d\"},{\"hoverinfo\":\"text\",\"hovertext\":\"Fragment 1\",\"legendgroup\":\"Fragment 1\",\"line\":{\"color\":\"#FF5733\",\"width\":12.271325204000146},\"mode\":\"lines\",\"name\":\"Fragment 1\",\"opacity\":0.7,\"showlegend\":false,\"x\":[-1.878061,-1.731779,null,-1.878061,-1.735833,null,-1.878061,-1.729592,null],\"y\":[0.542888,0.611626,null,0.542888,-0.407236,null,0.542888,1.440948,null],\"z\":[0.004907,1.081499,null,0.004907,-0.507162,null,0.004907,-0.571361,null],\"type\":\"scatter3d\"},{\"hoverinfo\":\"text\",\"hovertext\":\"Fragment 2\",\"legendgroup\":\"Fragment 2\",\"marker\":{\"color\":\"#33FF57\",\"size\":6.109243748081782},\"mode\":\"markers\",\"name\":\"Fragment 2\",\"opacity\":1,\"showlegend\":true,\"x\":[0.943081],\"y\":[0.543765],\"z\":[-0.003568],\"type\":\"scatter3d\"},{\"hoverinfo\":\"text\",\"hovertext\":\"Fragment 2\",\"legendgroup\":\"Fragment 2\",\"line\":{\"color\":\"#33FF57\",\"width\":12.271325204000146},\"mode\":\"lines\",\"name\":\"Fragment 2\",\"opacity\":0.7,\"showlegend\":false,\"x\":[],\"y\":[],\"z\":[],\"type\":\"scatter3d\"},{\"hoverinfo\":\"text\",\"hovertext\":\"Fragment 3\",\"legendgroup\":\"Fragment 3\",\"marker\":{\"color\":\"#3357FF\",\"size\":6.109243748081782},\"mode\":\"markers\",\"name\":\"Fragment 3\",\"opacity\":1,\"showlegend\":true,\"x\":[-4.076101],\"y\":[0.572311],\"z\":[-0.004926],\"type\":\"scatter3d\"},{\"hoverinfo\":\"text\",\"hovertext\":\"Fragment 3\",\"legendgroup\":\"Fragment 3\",\"line\":{\"color\":\"#3357FF\",\"width\":12.271325204000146},\"mode\":\"lines\",\"name\":\"Fragment 3\",\"opacity\":0.7,\"showlegend\":false,\"x\":[],\"y\":[],\"z\":[],\"type\":\"scatter3d\"}],\"name\":\"14\"},{\"data\":[{\"hoverinfo\":\"text\",\"hovertext\":\"Fragment 1\",\"legendgroup\":\"Fragment 1\",\"marker\":{\"color\":\"#FF5733\",\"size\":6.109243748081782},\"mode\":\"markers\",\"name\":\"Fragment 1\",\"opacity\":1,\"showlegend\":true,\"x\":[-1.909415,-1.725511,-1.729764,-1.723466],\"y\":[0.543469,0.611084,-0.402613,1.437928],\"z\":[0.004648,1.076159,-0.504451,-0.569434],\"type\":\"scatter3d\"},{\"hoverinfo\":\"text\",\"hovertext\":\"Fragment 1\",\"legendgroup\":\"Fragment 1\",\"line\":{\"color\":\"#FF5733\",\"width\":12.271325204000146},\"mode\":\"lines\",\"name\":\"Fragment 1\",\"opacity\":0.7,\"showlegend\":false,\"x\":[-1.909415,-1.725511,null,-1.909415,-1.729764,null,-1.909415,-1.723466,null],\"y\":[0.543469,0.611084,null,0.543469,-0.402613,null,0.543469,1.437928,null],\"z\":[0.004648,1.076159,null,0.004648,-0.504451,null,0.004648,-0.569434,null],\"type\":\"scatter3d\"},{\"hoverinfo\":\"text\",\"hovertext\":\"Fragment 2\",\"legendgroup\":\"Fragment 2\",\"marker\":{\"color\":\"#33FF57\",\"size\":6.109243748081782},\"mode\":\"markers\",\"name\":\"Fragment 2\",\"opacity\":1,\"showlegend\":true,\"x\":[0.976472],\"y\":[0.541999],\"z\":[-0.002896],\"type\":\"scatter3d\"},{\"hoverinfo\":\"text\",\"hovertext\":\"Fragment 2\",\"legendgroup\":\"Fragment 2\",\"line\":{\"color\":\"#33FF57\",\"width\":12.271325204000146},\"mode\":\"lines\",\"name\":\"Fragment 2\",\"opacity\":0.7,\"showlegend\":false,\"x\":[],\"y\":[],\"z\":[],\"type\":\"scatter3d\"},{\"hoverinfo\":\"text\",\"hovertext\":\"Fragment 3\",\"legendgroup\":\"Fragment 3\",\"marker\":{\"color\":\"#3357FF\",\"size\":6.109243748081782},\"mode\":\"markers\",\"name\":\"Fragment 3\",\"opacity\":1,\"showlegend\":true,\"x\":[-4.04175],\"y\":[0.570606],\"z\":[-0.004346],\"type\":\"scatter3d\"},{\"hoverinfo\":\"text\",\"hovertext\":\"Fragment 3\",\"legendgroup\":\"Fragment 3\",\"line\":{\"color\":\"#3357FF\",\"width\":12.271325204000146},\"mode\":\"lines\",\"name\":\"Fragment 3\",\"opacity\":0.7,\"showlegend\":false,\"x\":[],\"y\":[],\"z\":[],\"type\":\"scatter3d\"}],\"name\":\"15\"},{\"data\":[{\"hoverinfo\":\"text\",\"hovertext\":\"Fragment 1\",\"legendgroup\":\"Fragment 1\",\"marker\":{\"color\":\"#FF5733\",\"size\":6.109243748081782},\"mode\":\"markers\",\"name\":\"Fragment 1\",\"opacity\":1,\"showlegend\":true,\"x\":[-1.93726,-1.715968,-1.720402,-1.71393],\"y\":[0.544191,0.610157,-0.396967,1.434179],\"z\":[0.00425,1.069459,-0.500902,-0.567096],\"type\":\"scatter3d\"},{\"hoverinfo\":\"text\",\"hovertext\":\"Fragment 1\",\"legendgroup\":\"Fragment 1\",\"line\":{\"color\":\"#FF5733\",\"width\":12.271325204000146},\"mode\":\"lines\",\"name\":\"Fragment 1\",\"opacity\":0.7,\"showlegend\":false,\"x\":[-1.93726,-1.715968,null,-1.93726,-1.720402,null,-1.93726,-1.71393,null],\"y\":[0.544191,0.610157,null,0.544191,-0.396967,null,0.544191,1.434179,null],\"z\":[0.00425,1.069459,null,0.00425,-0.500902,null,0.00425,-0.567096,null],\"type\":\"scatter3d\"},{\"hoverinfo\":\"text\",\"hovertext\":\"Fragment 2\",\"legendgroup\":\"Fragment 2\",\"marker\":{\"color\":\"#33FF57\",\"size\":6.109243748081782},\"mode\":\"markers\",\"name\":\"Fragment 2\",\"opacity\":1,\"showlegend\":true,\"x\":[1.0136],\"y\":[0.54014],\"z\":[-0.00221],\"type\":\"scatter3d\"},{\"hoverinfo\":\"text\",\"hovertext\":\"Fragment 2\",\"legendgroup\":\"Fragment 2\",\"line\":{\"color\":\"#33FF57\",\"width\":12.271325204000146},\"mode\":\"lines\",\"name\":\"Fragment 2\",\"opacity\":0.7,\"showlegend\":false,\"x\":[],\"y\":[],\"z\":[],\"type\":\"scatter3d\"},{\"hoverinfo\":\"text\",\"hovertext\":\"Fragment 3\",\"legendgroup\":\"Fragment 3\",\"marker\":{\"color\":\"#3357FF\",\"size\":6.109243748081782},\"mode\":\"markers\",\"name\":\"Fragment 3\",\"opacity\":1,\"showlegend\":true,\"x\":[-4.003838],\"y\":[0.56866],\"z\":[-0.003651],\"type\":\"scatter3d\"},{\"hoverinfo\":\"text\",\"hovertext\":\"Fragment 3\",\"legendgroup\":\"Fragment 3\",\"line\":{\"color\":\"#3357FF\",\"width\":12.271325204000146},\"mode\":\"lines\",\"name\":\"Fragment 3\",\"opacity\":0.7,\"showlegend\":false,\"x\":[],\"y\":[],\"z\":[],\"type\":\"scatter3d\"}],\"name\":\"16\"},{\"data\":[{\"hoverinfo\":\"text\",\"hovertext\":\"Fragment 1\",\"legendgroup\":\"Fragment 1\",\"marker\":{\"color\":\"#FF5733\",\"size\":6.109243748081782},\"mode\":\"markers\",\"name\":\"Fragment 1\",\"opacity\":1,\"showlegend\":true,\"x\":[-1.962113,-1.703765,-1.708356,-1.701556],\"y\":[0.545138,0.608624,-0.39021,1.429679],\"z\":[0.003669,1.061212,-0.496224,-0.564322],\"type\":\"scatter3d\"},{\"hoverinfo\":\"text\",\"hovertext\":\"Fragment 1\",\"legendgroup\":\"Fragment 1\",\"line\":{\"color\":\"#FF5733\",\"width\":12.271325204000146},\"mode\":\"lines\",\"name\":\"Fragment 1\",\"opacity\":0.7,\"showlegend\":false,\"x\":[-1.962113,-1.703765,null,-1.962113,-1.708356,null,-1.962113,-1.701556,null],\"y\":[0.545138,0.608624,null,0.545138,-0.39021,null,0.545138,1.429679,null],\"z\":[0.003669,1.061212,null,0.003669,-0.496224,null,0.003669,-0.564322,null],\"type\":\"scatter3d\"},{\"hoverinfo\":\"text\",\"hovertext\":\"Fragment 2\",\"legendgroup\":\"Fragment 2\",\"marker\":{\"color\":\"#33FF57\",\"size\":6.109243748081782},\"mode\":\"markers\",\"name\":\"Fragment 2\",\"opacity\":1,\"showlegend\":true,\"x\":[1.053926],\"y\":[0.53828],\"z\":[-0.001555],\"type\":\"scatter3d\"},{\"hoverinfo\":\"text\",\"hovertext\":\"Fragment 2\",\"legendgroup\":\"Fragment 2\",\"line\":{\"color\":\"#33FF57\",\"width\":12.271325204000146},\"mode\":\"lines\",\"name\":\"Fragment 2\",\"opacity\":0.7,\"showlegend\":false,\"x\":[],\"y\":[],\"z\":[],\"type\":\"scatter3d\"},{\"hoverinfo\":\"text\",\"hovertext\":\"Fragment 3\",\"legendgroup\":\"Fragment 3\",\"marker\":{\"color\":\"#3357FF\",\"size\":6.109243748081782},\"mode\":\"markers\",\"name\":\"Fragment 3\",\"opacity\":1,\"showlegend\":true,\"x\":[-3.962931],\"y\":[0.566542],\"z\":[-0.002873],\"type\":\"scatter3d\"},{\"hoverinfo\":\"text\",\"hovertext\":\"Fragment 3\",\"legendgroup\":\"Fragment 3\",\"line\":{\"color\":\"#3357FF\",\"width\":12.271325204000146},\"mode\":\"lines\",\"name\":\"Fragment 3\",\"opacity\":0.7,\"showlegend\":false,\"x\":[],\"y\":[],\"z\":[],\"type\":\"scatter3d\"}],\"name\":\"17\"},{\"data\":[{\"hoverinfo\":\"text\",\"hovertext\":\"Fragment 1\",\"legendgroup\":\"Fragment 1\",\"marker\":{\"color\":\"#FF5733\",\"size\":6.109243748081782},\"mode\":\"markers\",\"name\":\"Fragment 1\",\"opacity\":1,\"showlegend\":true,\"x\":[-2.057102,-1.69645,-1.701169,-1.694343],\"y\":[0.550513,0.59759,-0.362061,1.412552],\"z\":[0.000642,1.025256,-0.471265,-0.553247],\"type\":\"scatter3d\"},{\"hoverinfo\":\"text\",\"hovertext\":\"Fragment 1\",\"legendgroup\":\"Fragment 1\",\"line\":{\"color\":\"#FF5733\",\"width\":12.271325204000146},\"mode\":\"lines\",\"name\":\"Fragment 1\",\"opacity\":0.7,\"showlegend\":false,\"x\":[-2.057102,-1.69645,null,-2.057102,-1.701169,null,-2.057102,-1.694343,null],\"y\":[0.550513,0.59759,null,0.550513,-0.362061,null,0.550513,1.412552,null],\"z\":[0.000642,1.025256,null,0.000642,-0.471265,null,0.000642,-0.553247,null],\"type\":\"scatter3d\"},{\"hoverinfo\":\"text\",\"hovertext\":\"Fragment 2\",\"legendgroup\":\"Fragment 2\",\"marker\":{\"color\":\"#33FF57\",\"size\":6.109243748081782},\"mode\":\"markers\",\"name\":\"Fragment 2\",\"opacity\":1,\"showlegend\":true,\"x\":[1.144979],\"y\":[0.538859],\"z\":[-0.002771],\"type\":\"scatter3d\"},{\"hoverinfo\":\"text\",\"hovertext\":\"Fragment 2\",\"legendgroup\":\"Fragment 2\",\"line\":{\"color\":\"#33FF57\",\"width\":12.271325204000146},\"mode\":\"lines\",\"name\":\"Fragment 2\",\"opacity\":0.7,\"showlegend\":false,\"x\":[],\"y\":[],\"z\":[],\"type\":\"scatter3d\"},{\"hoverinfo\":\"text\",\"hovertext\":\"Fragment 3\",\"legendgroup\":\"Fragment 3\",\"marker\":{\"color\":\"#3357FF\",\"size\":6.109243748081782},\"mode\":\"markers\",\"name\":\"Fragment 3\",\"opacity\":1,\"showlegend\":true,\"x\":[-3.871921],\"y\":[0.558152],\"z\":[0.001228],\"type\":\"scatter3d\"},{\"hoverinfo\":\"text\",\"hovertext\":\"Fragment 3\",\"legendgroup\":\"Fragment 3\",\"line\":{\"color\":\"#3357FF\",\"width\":12.271325204000146},\"mode\":\"lines\",\"name\":\"Fragment 3\",\"opacity\":0.7,\"showlegend\":false,\"x\":[],\"y\":[],\"z\":[],\"type\":\"scatter3d\"}],\"name\":\"18\"},{\"data\":[{\"hoverinfo\":\"text\",\"hovertext\":\"Fragment 1\",\"legendgroup\":\"Fragment 1\",\"marker\":{\"color\":\"#FF5733\",\"size\":6.109243748081782},\"mode\":\"markers\",\"name\":\"Fragment 1\",\"opacity\":1,\"showlegend\":true,\"x\":[-2.079726,-1.716302,-1.721086,-1.711738],\"y\":[0.551724,0.597582,-0.360355,1.412215],\"z\":[0.000181,1.023606,-0.470061,-0.552817],\"type\":\"scatter3d\"},{\"hoverinfo\":\"text\",\"hovertext\":\"Fragment 1\",\"legendgroup\":\"Fragment 1\",\"line\":{\"color\":\"#FF5733\",\"width\":12.271325204000146},\"mode\":\"lines\",\"name\":\"Fragment 1\",\"opacity\":0.7,\"showlegend\":false,\"x\":[-2.079726,-1.716302,null,-2.079726,-1.721086,null,-2.079726,-1.711738,null],\"y\":[0.551724,0.597582,null,0.551724,-0.360355,null,0.551724,1.412215,null],\"z\":[0.000181,1.023606,null,0.000181,-0.470061,null,0.000181,-0.552817,null],\"type\":\"scatter3d\"},{\"hoverinfo\":\"text\",\"hovertext\":\"Fragment 2\",\"legendgroup\":\"Fragment 2\",\"marker\":{\"color\":\"#33FF57\",\"size\":6.109243748081782},\"mode\":\"markers\",\"name\":\"Fragment 2\",\"opacity\":1,\"showlegend\":true,\"x\":[1.128916],\"y\":[0.535431],\"z\":[-0.000439],\"type\":\"scatter3d\"},{\"hoverinfo\":\"text\",\"hovertext\":\"Fragment 2\",\"legendgroup\":\"Fragment 2\",\"line\":{\"color\":\"#33FF57\",\"width\":12.271325204000146},\"mode\":\"lines\",\"name\":\"Fragment 2\",\"opacity\":0.7,\"showlegend\":false,\"x\":[],\"y\":[],\"z\":[],\"type\":\"scatter3d\"},{\"hoverinfo\":\"text\",\"hovertext\":\"Fragment 3\",\"legendgroup\":\"Fragment 3\",\"marker\":{\"color\":\"#3357FF\",\"size\":6.109243748081782},\"mode\":\"markers\",\"name\":\"Fragment 3\",\"opacity\":1,\"showlegend\":true,\"x\":[-3.888003],\"y\":[0.561313],\"z\":[-0.000459],\"type\":\"scatter3d\"},{\"hoverinfo\":\"text\",\"hovertext\":\"Fragment 3\",\"legendgroup\":\"Fragment 3\",\"line\":{\"color\":\"#3357FF\",\"width\":12.271325204000146},\"mode\":\"lines\",\"name\":\"Fragment 3\",\"opacity\":0.7,\"showlegend\":false,\"x\":[],\"y\":[],\"z\":[],\"type\":\"scatter3d\"}],\"name\":\"19\"}]);\n",
       "                        }).then(function(){\n",
       "                            \n",
       "var gd = document.getElementById('dc24f87a-5305-4d5a-857b-1be0ff6eb55e');\n",
       "var x = new MutationObserver(function (mutations, observer) {{\n",
       "        var display = window.getComputedStyle(gd).display;\n",
       "        if (!display || display === 'none') {{\n",
       "            console.log([gd, 'removed!']);\n",
       "            Plotly.purge(gd);\n",
       "            observer.disconnect();\n",
       "        }}\n",
       "}});\n",
       "\n",
       "// Listen for the removal of the full notebook cells\n",
       "var notebookContainer = gd.closest('#notebook-container');\n",
       "if (notebookContainer) {{\n",
       "    x.observe(notebookContainer, {childList: true});\n",
       "}}\n",
       "\n",
       "// Listen for the clearing of the current output cell\n",
       "var outputEl = gd.closest('.output');\n",
       "if (outputEl) {{\n",
       "    x.observe(outputEl, {childList: true});\n",
       "}}\n",
       "\n",
       "                        })                };                });            </script>        </div>"
      ]
     },
     "metadata": {},
     "output_type": "display_data"
    }
   ],
   "source": [
    "system.animation(atom_scaler=100)"
   ]
  },
  {
   "cell_type": "code",
   "execution_count": null,
   "metadata": {},
   "outputs": [],
   "source": []
  }
 ],
 "metadata": {
  "kernelspec": {
   "display_name": "Python 3",
   "language": "python",
   "name": "python3"
  },
  "language_info": {
   "codemirror_mode": {
    "name": "ipython",
    "version": 3
   },
   "file_extension": ".py",
   "mimetype": "text/x-python",
   "name": "python",
   "nbconvert_exporter": "python",
   "pygments_lexer": "ipython3",
   "version": "3.12.1"
  }
 },
 "nbformat": 4,
 "nbformat_minor": 2
}
